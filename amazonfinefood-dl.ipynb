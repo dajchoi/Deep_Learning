{
 "cells": [
  {
   "cell_type": "code",
   "execution_count": 1,
   "metadata": {
    "_cell_guid": "b1076dfc-b9ad-4769-8c92-a6c4dae69d19",
    "_uuid": "8f2839f25d086af736a60e9eeb907d3b93b6e0e5",
    "execution": {
     "iopub.execute_input": "2020-09-19T12:06:52.201922Z",
     "iopub.status.busy": "2020-09-19T12:06:52.201229Z",
     "iopub.status.idle": "2020-09-19T12:06:52.214532Z",
     "shell.execute_reply": "2020-09-19T12:06:52.215327Z"
    },
    "papermill": {
     "duration": 0.064099,
     "end_time": "2020-09-19T12:06:52.215560",
     "exception": false,
     "start_time": "2020-09-19T12:06:52.151461",
     "status": "completed"
    },
    "tags": []
   },
   "outputs": [
    {
     "name": "stdout",
     "output_type": "stream",
     "text": [
      "/kaggle/input/word2vec/GoogleNews-vectors-negative300.bin\n",
      "/kaggle/input/amazon-fine-food-reviews/database.sqlite\n",
      "/kaggle/input/amazon-fine-food-reviews/hashes.txt\n",
      "/kaggle/input/amazon-fine-food-reviews/Reviews.csv\n",
      "/kaggle/input/amazonfinefood-dl/TestTextPrep.csv\n",
      "/kaggle/input/amazonfinefood-dl/__results__.html\n",
      "/kaggle/input/amazonfinefood-dl/NormalizeCleandf.csv\n",
      "/kaggle/input/amazonfinefood-dl/__output__.json\n",
      "/kaggle/input/amazonfinefood-dl/custom.css\n",
      "/kaggle/input/amazonfinefood-dl/XTrain.npy\n",
      "/kaggle/input/amazonfinefood-dl/__notebook__.ipynb\n",
      "/kaggle/input/amazonfinefood-dl/YTest.npy\n",
      "/kaggle/input/amazonfinefood-dl/BinaryDatadf.csv\n",
      "/kaggle/input/amazonfinefood-dl/YTrain.npy\n",
      "/kaggle/input/amazonfinefood-dl/TrainTextPrep.csv\n",
      "/kaggle/input/amazonfinefood-dl/word2vec_embedding_weights.npy\n",
      "/kaggle/input/amazonfinefood-dl/FilteredRatedf.csv\n",
      "/kaggle/input/amazonfinefood-dl/XTest.npy\n",
      "/kaggle/input/amazonfinefood-dl/__results___files/__results___11_0.png\n"
     ]
    }
   ],
   "source": [
    "# This Python 3 environment comes with many helpful analytics libraries installed\n",
    "# It is defined by the kaggle/python Docker image: https://github.com/kaggle/docker-python\n",
    "# For example, here's several helpful packages to load\n",
    "\n",
    "import numpy as np # linear algebra\n",
    "import pandas as pd # data processing, CSV file I/O (e.g. pd.read_csv)\n",
    "\n",
    "# Input data files are available in the read-only \"../input/\" directory\n",
    "# For example, running this (by clicking run or pressing Shift+Enter) will list all files under the input directory\n",
    "\n",
    "import os\n",
    "for dirname, _, filenames in os.walk('/kaggle/input'):\n",
    "    for filename in filenames:\n",
    "        print(os.path.join(dirname, filename))\n",
    "\n",
    "# You can write up to 5GB to the current directory (/kaggle/working/) that gets preserved as output when you create a version using \"Save & Run All\" \n",
    "# You can also write temporary files to /kaggle/temp/, but they won't be saved outside of the current session"
   ]
  },
  {
   "cell_type": "code",
   "execution_count": 2,
   "metadata": {
    "execution": {
     "iopub.execute_input": "2020-09-19T12:06:52.321187Z",
     "iopub.status.busy": "2020-09-19T12:06:52.315071Z",
     "iopub.status.idle": "2020-09-19T12:07:06.605458Z",
     "shell.execute_reply": "2020-09-19T12:07:06.604795Z"
    },
    "papermill": {
     "duration": 14.344244,
     "end_time": "2020-09-19T12:07:06.605581",
     "exception": false,
     "start_time": "2020-09-19T12:06:52.261337",
     "status": "completed"
    },
    "tags": []
   },
   "outputs": [],
   "source": [
    "import pandas as pd\n",
    "\n",
    "import warnings\n",
    "warnings.filterwarnings(\"ignore\")\n",
    "\n",
    "import numpy as np\n",
    "import matplotlib.pyplot as plt\n",
    "from matplotlib import style\n",
    "import seaborn as sns\n",
    "\n",
    "import re\n",
    "from bs4 import BeautifulSoup\n",
    "from tqdm import tqdm\n",
    "\n",
    "import nltk\n",
    "from nltk.stem import WordNetLemmatizer\n",
    "from nltk.corpus import stopwords\n",
    "from nltk.tokenize import word_tokenize\n",
    "\n",
    "from sklearn.model_selection import train_test_split\n",
    "\n",
    "from tensorflow.keras.preprocessing.text import Tokenizer\n",
    "from tensorflow.keras.preprocessing.sequence import pad_sequences\n",
    "\n",
    "from gensim.models import KeyedVectors\n",
    "\n",
    "from tensorflow.keras.layers import Embedding, Input, LSTM, Dense, GlobalAveragePooling1D, Dropout, Bidirectional\n",
    "from tensorflow.keras.models import Sequential, Model\n",
    "from tensorflow.keras import regularizers\n",
    "from tensorflow.keras.callbacks import EarlyStopping, ModelCheckpoint\n",
    "\n",
    "# f1_score\n",
    "from tensorflow.keras import backend as K\n",
    "\n",
    "def recall_m(y_true, y_pred):\n",
    "        true_positives = K.sum(K.round(K.clip(y_true * y_pred, 0, 1)))\n",
    "        possible_positives = K.sum(K.round(K.clip(y_true, 0, 1)))\n",
    "        recall = true_positives / (possible_positives + K.epsilon())\n",
    "        return recall\n",
    "\n",
    "def precision_m(y_true, y_pred):\n",
    "        true_positives = K.sum(K.round(K.clip(y_true * y_pred, 0, 1)))\n",
    "        predicted_positives = K.sum(K.round(K.clip(y_pred, 0, 1)))\n",
    "        precision = true_positives / (predicted_positives + K.epsilon())\n",
    "        return precision\n",
    "\n",
    "def f1_m(y_true, y_pred):\n",
    "    precision = precision_m(y_true, y_pred)\n",
    "    recall = recall_m(y_true, y_pred)\n",
    "    return 2*((precision*recall)/(precision+recall+K.epsilon()))\n",
    "\n",
    "import tensorflow as tf\n",
    "# detect and init the TPU\n",
    "tpu = tf.distribute.cluster_resolver.TPUClusterResolver()\n",
    "tf.config.experimental_connect_to_cluster(tpu)\n",
    "tf.tpu.experimental.initialize_tpu_system(tpu)\n",
    "\n",
    "# instantiate a distribution strategy\n",
    "tpu_strategy = tf.distribute.experimental.TPUStrategy(tpu)"
   ]
  },
  {
   "cell_type": "code",
   "execution_count": 3,
   "metadata": {
    "execution": {
     "iopub.execute_input": "2020-09-19T12:07:06.696148Z",
     "iopub.status.busy": "2020-09-19T12:07:06.695429Z",
     "iopub.status.idle": "2020-09-19T12:07:11.023144Z",
     "shell.execute_reply": "2020-09-19T12:07:11.024267Z"
    },
    "papermill": {
     "duration": 4.377655,
     "end_time": "2020-09-19T12:07:11.024570",
     "exception": false,
     "start_time": "2020-09-19T12:07:06.646915",
     "status": "completed"
    },
    "tags": []
   },
   "outputs": [
    {
     "name": "stdout",
     "output_type": "stream",
     "text": [
      "Size of the data is,  (568454, 10)\n"
     ]
    },
    {
     "data": {
      "text/html": [
       "<div>\n",
       "<style scoped>\n",
       "    .dataframe tbody tr th:only-of-type {\n",
       "        vertical-align: middle;\n",
       "    }\n",
       "\n",
       "    .dataframe tbody tr th {\n",
       "        vertical-align: top;\n",
       "    }\n",
       "\n",
       "    .dataframe thead th {\n",
       "        text-align: right;\n",
       "    }\n",
       "</style>\n",
       "<table border=\"1\" class=\"dataframe\">\n",
       "  <thead>\n",
       "    <tr style=\"text-align: right;\">\n",
       "      <th></th>\n",
       "      <th>Id</th>\n",
       "      <th>ProductId</th>\n",
       "      <th>UserId</th>\n",
       "      <th>ProfileName</th>\n",
       "      <th>HelpfulnessNumerator</th>\n",
       "      <th>HelpfulnessDenominator</th>\n",
       "      <th>Score</th>\n",
       "      <th>Time</th>\n",
       "      <th>Summary</th>\n",
       "      <th>Text</th>\n",
       "    </tr>\n",
       "  </thead>\n",
       "  <tbody>\n",
       "    <tr>\n",
       "      <th>0</th>\n",
       "      <td>1</td>\n",
       "      <td>B001E4KFG0</td>\n",
       "      <td>A3SGXH7AUHU8GW</td>\n",
       "      <td>delmartian</td>\n",
       "      <td>1</td>\n",
       "      <td>1</td>\n",
       "      <td>5</td>\n",
       "      <td>1303862400</td>\n",
       "      <td>Good Quality Dog Food</td>\n",
       "      <td>I have bought several of the Vitality canned d...</td>\n",
       "    </tr>\n",
       "    <tr>\n",
       "      <th>1</th>\n",
       "      <td>2</td>\n",
       "      <td>B00813GRG4</td>\n",
       "      <td>A1D87F6ZCVE5NK</td>\n",
       "      <td>dll pa</td>\n",
       "      <td>0</td>\n",
       "      <td>0</td>\n",
       "      <td>1</td>\n",
       "      <td>1346976000</td>\n",
       "      <td>Not as Advertised</td>\n",
       "      <td>Product arrived labeled as Jumbo Salted Peanut...</td>\n",
       "    </tr>\n",
       "    <tr>\n",
       "      <th>2</th>\n",
       "      <td>3</td>\n",
       "      <td>B000LQOCH0</td>\n",
       "      <td>ABXLMWJIXXAIN</td>\n",
       "      <td>Natalia Corres \"Natalia Corres\"</td>\n",
       "      <td>1</td>\n",
       "      <td>1</td>\n",
       "      <td>4</td>\n",
       "      <td>1219017600</td>\n",
       "      <td>\"Delight\" says it all</td>\n",
       "      <td>This is a confection that has been around a fe...</td>\n",
       "    </tr>\n",
       "    <tr>\n",
       "      <th>3</th>\n",
       "      <td>4</td>\n",
       "      <td>B000UA0QIQ</td>\n",
       "      <td>A395BORC6FGVXV</td>\n",
       "      <td>Karl</td>\n",
       "      <td>3</td>\n",
       "      <td>3</td>\n",
       "      <td>2</td>\n",
       "      <td>1307923200</td>\n",
       "      <td>Cough Medicine</td>\n",
       "      <td>If you are looking for the secret ingredient i...</td>\n",
       "    </tr>\n",
       "    <tr>\n",
       "      <th>4</th>\n",
       "      <td>5</td>\n",
       "      <td>B006K2ZZ7K</td>\n",
       "      <td>A1UQRSCLF8GW1T</td>\n",
       "      <td>Michael D. Bigham \"M. Wassir\"</td>\n",
       "      <td>0</td>\n",
       "      <td>0</td>\n",
       "      <td>5</td>\n",
       "      <td>1350777600</td>\n",
       "      <td>Great taffy</td>\n",
       "      <td>Great taffy at a great price.  There was a wid...</td>\n",
       "    </tr>\n",
       "  </tbody>\n",
       "</table>\n",
       "</div>"
      ],
      "text/plain": [
       "   Id   ProductId          UserId                      ProfileName  \\\n",
       "0   1  B001E4KFG0  A3SGXH7AUHU8GW                       delmartian   \n",
       "1   2  B00813GRG4  A1D87F6ZCVE5NK                           dll pa   \n",
       "2   3  B000LQOCH0   ABXLMWJIXXAIN  Natalia Corres \"Natalia Corres\"   \n",
       "3   4  B000UA0QIQ  A395BORC6FGVXV                             Karl   \n",
       "4   5  B006K2ZZ7K  A1UQRSCLF8GW1T    Michael D. Bigham \"M. Wassir\"   \n",
       "\n",
       "   HelpfulnessNumerator  HelpfulnessDenominator  Score        Time  \\\n",
       "0                     1                       1      5  1303862400   \n",
       "1                     0                       0      1  1346976000   \n",
       "2                     1                       1      4  1219017600   \n",
       "3                     3                       3      2  1307923200   \n",
       "4                     0                       0      5  1350777600   \n",
       "\n",
       "                 Summary                                               Text  \n",
       "0  Good Quality Dog Food  I have bought several of the Vitality canned d...  \n",
       "1      Not as Advertised  Product arrived labeled as Jumbo Salted Peanut...  \n",
       "2  \"Delight\" says it all  This is a confection that has been around a fe...  \n",
       "3         Cough Medicine  If you are looking for the secret ingredient i...  \n",
       "4            Great taffy  Great taffy at a great price.  There was a wid...  "
      ]
     },
     "execution_count": 3,
     "metadata": {},
     "output_type": "execute_result"
    }
   ],
   "source": [
    "import pandas as pd \n",
    "df = pd.read_csv(\"/kaggle/input/amazon-fine-food-reviews/Reviews.csv\")\n",
    "print(\"Size of the data is, \", df.shape)\n",
    "df.head()\n"
   ]
  },
  {
   "cell_type": "code",
   "execution_count": 4,
   "metadata": {
    "execution": {
     "iopub.execute_input": "2020-09-19T12:07:11.118541Z",
     "iopub.status.busy": "2020-09-19T12:07:11.117607Z",
     "iopub.status.idle": "2020-09-19T12:07:11.469731Z",
     "shell.execute_reply": "2020-09-19T12:07:11.468896Z"
    },
    "papermill": {
     "duration": 0.398475,
     "end_time": "2020-09-19T12:07:11.469898",
     "exception": false,
     "start_time": "2020-09-19T12:07:11.071423",
     "status": "completed"
    },
    "tags": []
   },
   "outputs": [
    {
     "name": "stdout",
     "output_type": "stream",
     "text": [
      "<class 'pandas.core.frame.DataFrame'>\n",
      "RangeIndex: 568454 entries, 0 to 568453\n",
      "Data columns (total 10 columns):\n",
      " #   Column                  Non-Null Count   Dtype \n",
      "---  ------                  --------------   ----- \n",
      " 0   Id                      568454 non-null  int64 \n",
      " 1   ProductId               568454 non-null  object\n",
      " 2   UserId                  568454 non-null  object\n",
      " 3   ProfileName             568438 non-null  object\n",
      " 4   HelpfulnessNumerator    568454 non-null  int64 \n",
      " 5   HelpfulnessDenominator  568454 non-null  int64 \n",
      " 6   Score                   568454 non-null  int64 \n",
      " 7   Time                    568454 non-null  int64 \n",
      " 8   Summary                 568427 non-null  object\n",
      " 9   Text                    568454 non-null  object\n",
      "dtypes: int64(5), object(5)\n",
      "memory usage: 43.4+ MB\n"
     ]
    }
   ],
   "source": [
    "df.info() # no null info, no need to fill 비워진 값 확인 과정"
   ]
  },
  {
   "cell_type": "markdown",
   "metadata": {
    "papermill": {
     "duration": 0.040627,
     "end_time": "2020-09-19T12:07:11.552776",
     "exception": false,
     "start_time": "2020-09-19T12:07:11.512149",
     "status": "completed"
    },
    "tags": []
   },
   "source": [
    "# > **중복없애기 Dropping Duplicates** "
   ]
  },
  {
   "cell_type": "code",
   "execution_count": 5,
   "metadata": {
    "execution": {
     "iopub.execute_input": "2020-09-19T12:07:11.660276Z",
     "iopub.status.busy": "2020-09-19T12:07:11.659199Z",
     "iopub.status.idle": "2020-09-19T12:07:12.902995Z",
     "shell.execute_reply": "2020-09-19T12:07:12.902335Z"
    },
    "papermill": {
     "duration": 1.306433,
     "end_time": "2020-09-19T12:07:12.903129",
     "exception": false,
     "start_time": "2020-09-19T12:07:11.596696",
     "status": "completed"
    },
    "tags": []
   },
   "outputs": [
    {
     "name": "stdout",
     "output_type": "stream",
     "text": [
      "Size of the data after dropping duplicates,  (393933, 10)\n"
     ]
    }
   ],
   "source": [
    "df=df.drop_duplicates(subset={\"UserId\",\"ProfileName\",\"Time\",\"Text\"}, keep='first', inplace=False)\n",
    "print(\"Size of the data after dropping duplicates, \", df.shape)"
   ]
  },
  {
   "cell_type": "code",
   "execution_count": 6,
   "metadata": {
    "_cell_guid": "79c7e3d0-c299-4dcb-8224-4455121ee9b0",
    "_uuid": "d629ff2d2480ee46fbb7e2d37f6b5fab8052498a",
    "execution": {
     "iopub.execute_input": "2020-09-19T12:07:13.015447Z",
     "iopub.status.busy": "2020-09-19T12:07:13.002221Z",
     "iopub.status.idle": "2020-09-19T12:07:13.232923Z",
     "shell.execute_reply": "2020-09-19T12:07:13.232273Z"
    },
    "papermill": {
     "duration": 0.288626,
     "end_time": "2020-09-19T12:07:13.233056",
     "exception": false,
     "start_time": "2020-09-19T12:07:12.944430",
     "status": "completed"
    },
    "tags": []
   },
   "outputs": [
    {
     "name": "stdout",
     "output_type": "stream",
     "text": [
      "Size of the data after drop for only necessary elements,  (393933, 3)\n"
     ]
    },
    {
     "data": {
      "text/html": [
       "<div>\n",
       "<style scoped>\n",
       "    .dataframe tbody tr th:only-of-type {\n",
       "        vertical-align: middle;\n",
       "    }\n",
       "\n",
       "    .dataframe tbody tr th {\n",
       "        vertical-align: top;\n",
       "    }\n",
       "\n",
       "    .dataframe thead th {\n",
       "        text-align: right;\n",
       "    }\n",
       "</style>\n",
       "<table border=\"1\" class=\"dataframe\">\n",
       "  <thead>\n",
       "    <tr style=\"text-align: right;\">\n",
       "      <th></th>\n",
       "      <th>Summary Of Review</th>\n",
       "      <th>General Review</th>\n",
       "      <th>Rate</th>\n",
       "    </tr>\n",
       "  </thead>\n",
       "  <tbody>\n",
       "    <tr>\n",
       "      <th>0</th>\n",
       "      <td>Good Quality Dog Food</td>\n",
       "      <td>I have bought several of the Vitality canned d...</td>\n",
       "      <td>5</td>\n",
       "    </tr>\n",
       "    <tr>\n",
       "      <th>1</th>\n",
       "      <td>Not as Advertised</td>\n",
       "      <td>Product arrived labeled as Jumbo Salted Peanut...</td>\n",
       "      <td>1</td>\n",
       "    </tr>\n",
       "    <tr>\n",
       "      <th>2</th>\n",
       "      <td>\"Delight\" says it all</td>\n",
       "      <td>This is a confection that has been around a fe...</td>\n",
       "      <td>4</td>\n",
       "    </tr>\n",
       "    <tr>\n",
       "      <th>3</th>\n",
       "      <td>Cough Medicine</td>\n",
       "      <td>If you are looking for the secret ingredient i...</td>\n",
       "      <td>2</td>\n",
       "    </tr>\n",
       "    <tr>\n",
       "      <th>4</th>\n",
       "      <td>Great taffy</td>\n",
       "      <td>Great taffy at a great price.  There was a wid...</td>\n",
       "      <td>5</td>\n",
       "    </tr>\n",
       "  </tbody>\n",
       "</table>\n",
       "</div>"
      ],
      "text/plain": [
       "       Summary Of Review                                     General Review  \\\n",
       "0  Good Quality Dog Food  I have bought several of the Vitality canned d...   \n",
       "1      Not as Advertised  Product arrived labeled as Jumbo Salted Peanut...   \n",
       "2  \"Delight\" says it all  This is a confection that has been around a fe...   \n",
       "3         Cough Medicine  If you are looking for the secret ingredient i...   \n",
       "4            Great taffy  Great taffy at a great price.  There was a wid...   \n",
       "\n",
       "   Rate  \n",
       "0     5  \n",
       "1     1  \n",
       "2     4  \n",
       "3     2  \n",
       "4     5  "
      ]
     },
     "execution_count": 6,
     "metadata": {},
     "output_type": "execute_result"
    }
   ],
   "source": [
    "# Reshape it with only needed elements\n",
    "# 필요한 요소들로만 다시 구성\n",
    "df=df[['ProductId','Summary','Text','Score']]\n",
    "df['ProductId'] = df['ProductId']\n",
    "df['Summary Of Review'] = df['Summary']\n",
    "df['General Review'] = df['Text']\n",
    "df['Rate'] = df['Score']\n",
    "df.drop(['ProductId','Summary','Text','Score'],axis=1,inplace=True)\n",
    "print(\"Size of the data after drop for only necessary elements, \", df.shape)\n",
    "df.head()"
   ]
  },
  {
   "cell_type": "code",
   "execution_count": 7,
   "metadata": {
    "execution": {
     "iopub.execute_input": "2020-09-19T12:07:13.323876Z",
     "iopub.status.busy": "2020-09-19T12:07:13.323124Z",
     "iopub.status.idle": "2020-09-19T12:07:21.343747Z",
     "shell.execute_reply": "2020-09-19T12:07:21.343017Z"
    },
    "papermill": {
     "duration": 8.068528,
     "end_time": "2020-09-19T12:07:21.343879",
     "exception": false,
     "start_time": "2020-09-19T12:07:13.275351",
     "status": "completed"
    },
    "tags": []
   },
   "outputs": [
    {
     "name": "stdout",
     "output_type": "stream",
     "text": [
      "Size of data after filtering Score 3,  (364164, 3)\n"
     ]
    }
   ],
   "source": [
    "df_filter = df[df[\"Rate\"]!=3].copy() # Filter so the rate 3 data does not exist 점수3 제거 과정\n",
    "print(\"Size of data after filtering Score 3, \",df_filter.shape)\n",
    "df.head()\n",
    "df_filter.to_csv('FilteredRatedf.csv',index=False)"
   ]
  },
  {
   "cell_type": "code",
   "execution_count": 8,
   "metadata": {
    "execution": {
     "iopub.execute_input": "2020-09-19T12:07:21.435609Z",
     "iopub.status.busy": "2020-09-19T12:07:21.434918Z",
     "iopub.status.idle": "2020-09-19T12:07:22.001987Z",
     "shell.execute_reply": "2020-09-19T12:07:22.001380Z"
    },
    "papermill": {
     "duration": 0.615632,
     "end_time": "2020-09-19T12:07:22.002119",
     "exception": false,
     "start_time": "2020-09-19T12:07:21.386487",
     "status": "completed"
    },
    "tags": []
   },
   "outputs": [
    {
     "data": {
      "text/html": [
       "<div>\n",
       "<style scoped>\n",
       "    .dataframe tbody tr th:only-of-type {\n",
       "        vertical-align: middle;\n",
       "    }\n",
       "\n",
       "    .dataframe tbody tr th {\n",
       "        vertical-align: top;\n",
       "    }\n",
       "\n",
       "    .dataframe thead th {\n",
       "        text-align: right;\n",
       "    }\n",
       "</style>\n",
       "<table border=\"1\" class=\"dataframe\">\n",
       "  <thead>\n",
       "    <tr style=\"text-align: right;\">\n",
       "      <th></th>\n",
       "      <th>General Review</th>\n",
       "      <th>Rate</th>\n",
       "    </tr>\n",
       "  </thead>\n",
       "  <tbody>\n",
       "    <tr>\n",
       "      <th>0</th>\n",
       "      <td>Good Quality Dog Food I have bought several of...</td>\n",
       "      <td>5</td>\n",
       "    </tr>\n",
       "    <tr>\n",
       "      <th>1</th>\n",
       "      <td>Not as Advertised Product arrived labeled as J...</td>\n",
       "      <td>1</td>\n",
       "    </tr>\n",
       "    <tr>\n",
       "      <th>2</th>\n",
       "      <td>\"Delight\" says it all This is a confection tha...</td>\n",
       "      <td>4</td>\n",
       "    </tr>\n",
       "    <tr>\n",
       "      <th>3</th>\n",
       "      <td>Cough Medicine If you are looking for the secr...</td>\n",
       "      <td>2</td>\n",
       "    </tr>\n",
       "    <tr>\n",
       "      <th>4</th>\n",
       "      <td>Great taffy Great taffy at a great price.  The...</td>\n",
       "      <td>5</td>\n",
       "    </tr>\n",
       "  </tbody>\n",
       "</table>\n",
       "</div>"
      ],
      "text/plain": [
       "                                      General Review  Rate\n",
       "0  Good Quality Dog Food I have bought several of...     5\n",
       "1  Not as Advertised Product arrived labeled as J...     1\n",
       "2  \"Delight\" says it all This is a confection tha...     4\n",
       "3  Cough Medicine If you are looking for the secr...     2\n",
       "4  Great taffy Great taffy at a great price.  The...     5"
      ]
     },
     "execution_count": 8,
     "metadata": {},
     "output_type": "execute_result"
    }
   ],
   "source": [
    "df_filter['General Review'] = df_filter['Summary Of Review']+ \" \" + df_filter['General Review'] # Summary 와 Review 를 합친 것\n",
    "df_filter.drop(['Summary Of Review'],axis=1,inplace=True)\n",
    "df_filter.head()"
   ]
  },
  {
   "cell_type": "markdown",
   "metadata": {
    "papermill": {
     "duration": 0.04248,
     "end_time": "2020-09-19T12:07:22.088357",
     "exception": false,
     "start_time": "2020-09-19T12:07:22.045877",
     "status": "completed"
    },
    "tags": []
   },
   "source": [
    "# > **Binary로 표현 바꾸기 (sentiments of 0 and 1)** "
   ]
  },
  {
   "cell_type": "code",
   "execution_count": 9,
   "metadata": {
    "execution": {
     "iopub.execute_input": "2020-09-19T12:07:22.182303Z",
     "iopub.status.busy": "2020-09-19T12:07:22.181579Z",
     "iopub.status.idle": "2020-09-19T12:07:30.284594Z",
     "shell.execute_reply": "2020-09-19T12:07:30.285262Z"
    },
    "papermill": {
     "duration": 8.154144,
     "end_time": "2020-09-19T12:07:30.285435",
     "exception": false,
     "start_time": "2020-09-19T12:07:22.131291",
     "status": "completed"
    },
    "tags": []
   },
   "outputs": [
    {
     "name": "stdout",
     "output_type": "stream",
     "text": [
      "Ratio of 0 and 1 as for Binary_Identification, \n",
      "1    0.843181\n",
      "0    0.156819\n",
      "Name: Binary_Identify, dtype: float64\n"
     ]
    }
   ],
   "source": [
    "#Ignore warnings\n",
    "import warnings\n",
    "warnings.filterwarnings(\"ignore\")\n",
    "\n",
    "df_filter[\"Binary_Identify\"]  = df_filter[\"Rate\"].apply(lambda x : 1 if x > 3 else 0)\n",
    "df_filter.drop(['Rate'],axis=1,inplace=True)\n",
    "print(\"Ratio of 0 and 1 as for Binary_Identification, \") \n",
    "print(df_filter[\"Binary_Identify\"].value_counts(normalize=True))\n",
    "df_filter.head()\n",
    "df_filter.to_csv('BinaryDatadf.csv',index=False)"
   ]
  },
  {
   "cell_type": "code",
   "execution_count": 10,
   "metadata": {
    "execution": {
     "iopub.execute_input": "2020-09-19T12:07:30.380574Z",
     "iopub.status.busy": "2020-09-19T12:07:30.379677Z",
     "iopub.status.idle": "2020-09-19T12:07:30.506167Z",
     "shell.execute_reply": "2020-09-19T12:07:30.505583Z"
    },
    "papermill": {
     "duration": 0.177523,
     "end_time": "2020-09-19T12:07:30.506294",
     "exception": false,
     "start_time": "2020-09-19T12:07:30.328771",
     "status": "completed"
    },
    "tags": []
   },
   "outputs": [
    {
     "data": {
      "image/png": "[encoded data removed]",
      "text/plain": [
       "<Figure size 432x288 with 1 Axes>"
      ]
     },
     "metadata": {},
     "output_type": "display_data"
    }
   ],
   "source": [
    "#Visualization of data\n",
    "import numpy as np\n",
    "import matplotlib.pyplot as plt\n",
    "from matplotlib import style\n",
    "import seaborn as sns\n",
    "\n",
    "# Pie chart to check the estimated ratio of sentiments(0 or 1)\n",
    "labels = '0', '1'\n",
    "sizes = [16,84]\n",
    "\n",
    "fig1, ax1 = plt.subplots()\n",
    "ax1.pie(sizes, labels=labels, autopct='%1.1f%%',\n",
    "        shadow=True, startangle=90)\n",
    "ax1.axis('equal')  # Equal aspect ratio ensures that pie is drawn as a circle.\n",
    "\n",
    "plt.show()\n"
   ]
  },
  {
   "cell_type": "markdown",
   "metadata": {
    "papermill": {
     "duration": 0.044058,
     "end_time": "2020-09-19T12:07:30.594531",
     "exception": false,
     "start_time": "2020-09-19T12:07:30.550473",
     "status": "completed"
    },
    "tags": []
   },
   "source": [
    "# > **정제,정규화 Cleaning Texts, Normalization** "
   ]
  },
  {
   "cell_type": "code",
   "execution_count": 11,
   "metadata": {
    "execution": {
     "iopub.execute_input": "2020-09-19T12:07:30.691766Z",
     "iopub.status.busy": "2020-09-19T12:07:30.690990Z",
     "iopub.status.idle": "2020-09-19T12:07:30.701705Z",
     "shell.execute_reply": "2020-09-19T12:07:30.700901Z"
    },
    "papermill": {
     "duration": 0.063734,
     "end_time": "2020-09-19T12:07:30.701827",
     "exception": false,
     "start_time": "2020-09-19T12:07:30.638093",
     "status": "completed"
    },
    "tags": []
   },
   "outputs": [],
   "source": [
    "#Tokenization for preprocessing text\n",
    "import re\n",
    "from bs4 import BeautifulSoup\n",
    "from tqdm import tqdm\n",
    "\n",
    "import nltk\n",
    "from nltk.stem import WordNetLemmatizer\n",
    "from nltk.corpus import stopwords\n",
    "from nltk.tokenize import word_tokenize\n",
    "\n",
    "def apostrophe_correction(text):\n",
    "    text = re.sub(r\"n\\'t\", \" not\", text)\n",
    "    text = re.sub(r\"\\'re\", \" are\", text)\n",
    "    text = re.sub(r\"\\'s\", \" is\", text)\n",
    "    text = re.sub(r\"\\'d\", \" would\", text)\n",
    "    text = re.sub(r\"\\'ll\", \" will\", text)\n",
    "    text = re.sub(r\"\\'ve\", \" have\", text)\n",
    "    text = re.sub(r\"\\'m\", \" am\", text)\n",
    "    return text\n",
    "\n",
    "def text_preprocess(g_review):\n",
    "    g_review = re.sub(r\"http\\S+\", \"\", g_review)             # removing website links\n",
    "    g_review = BeautifulSoup(g_review, 'lxml').get_text()   # removing html tags\n",
    "    g_review = apostrophe_correction(g_review)              # for the exceptions (tokenization)\n",
    "    \n",
    "    g_review = re.sub(\"\\S*\\d\\S*\", \"\", g_review).strip()     # removing the words with numeric digits\n",
    "    g_review = re.sub('[^A-Za-z]+', ' ', g_review)          # removing non-word characters\n",
    "    g_review = re.sub(r'\\W*\\b\\w{1,2}\\b','', g_review)       # removing short words\n",
    "    \n",
    "    \n",
    "    stop_words = set(stopwords.words('english')) \n",
    "    g_review = [word for word in g_review.split(\" \") if not word in stop_words] # removing stop words\n",
    "    \n",
    "    lemmatizer = WordNetLemmatizer()\n",
    "    g_review = [lemmatizer.lemmatize(token, \"v\") for token in g_review] # Lemmatization\n",
    "    g_review = \" \".join(g_review)\n",
    "    g_review.strip()\n",
    "    return g_review"
   ]
  },
  {
   "cell_type": "code",
   "execution_count": 12,
   "metadata": {
    "execution": {
     "iopub.execute_input": "2020-09-19T12:07:30.802766Z",
     "iopub.status.busy": "2020-09-19T12:07:30.801904Z",
     "iopub.status.idle": "2020-09-19T12:07:30.806362Z",
     "shell.execute_reply": "2020-09-19T12:07:30.806821Z"
    },
    "papermill": {
     "duration": 0.061426,
     "end_time": "2020-09-19T12:07:30.806977",
     "exception": false,
     "start_time": "2020-09-19T12:07:30.745551",
     "status": "completed"
    },
    "tags": []
   },
   "outputs": [
    {
     "data": {
      "text/html": [
       "<div>\n",
       "<style scoped>\n",
       "    .dataframe tbody tr th:only-of-type {\n",
       "        vertical-align: middle;\n",
       "    }\n",
       "\n",
       "    .dataframe tbody tr th {\n",
       "        vertical-align: top;\n",
       "    }\n",
       "\n",
       "    .dataframe thead th {\n",
       "        text-align: right;\n",
       "    }\n",
       "</style>\n",
       "<table border=\"1\" class=\"dataframe\">\n",
       "  <thead>\n",
       "    <tr style=\"text-align: right;\">\n",
       "      <th></th>\n",
       "      <th>General Review</th>\n",
       "      <th>Binary_Identify</th>\n",
       "    </tr>\n",
       "  </thead>\n",
       "  <tbody>\n",
       "    <tr>\n",
       "      <th>0</th>\n",
       "      <td>Good Quality Dog Food I have bought several of...</td>\n",
       "      <td>1</td>\n",
       "    </tr>\n",
       "    <tr>\n",
       "      <th>1</th>\n",
       "      <td>Not as Advertised Product arrived labeled as J...</td>\n",
       "      <td>0</td>\n",
       "    </tr>\n",
       "    <tr>\n",
       "      <th>2</th>\n",
       "      <td>\"Delight\" says it all This is a confection tha...</td>\n",
       "      <td>1</td>\n",
       "    </tr>\n",
       "    <tr>\n",
       "      <th>3</th>\n",
       "      <td>Cough Medicine If you are looking for the secr...</td>\n",
       "      <td>0</td>\n",
       "    </tr>\n",
       "    <tr>\n",
       "      <th>4</th>\n",
       "      <td>Great taffy Great taffy at a great price.  The...</td>\n",
       "      <td>1</td>\n",
       "    </tr>\n",
       "    <tr>\n",
       "      <th>...</th>\n",
       "      <td>...</td>\n",
       "      <td>...</td>\n",
       "    </tr>\n",
       "    <tr>\n",
       "      <th>568449</th>\n",
       "      <td>Will not do without Great for sesame chicken.....</td>\n",
       "      <td>1</td>\n",
       "    </tr>\n",
       "    <tr>\n",
       "      <th>568450</th>\n",
       "      <td>disappointed I'm disappointed with the flavor....</td>\n",
       "      <td>0</td>\n",
       "    </tr>\n",
       "    <tr>\n",
       "      <th>568451</th>\n",
       "      <td>Perfect for our maltipoo These stars are small...</td>\n",
       "      <td>1</td>\n",
       "    </tr>\n",
       "    <tr>\n",
       "      <th>568452</th>\n",
       "      <td>Favorite Training and reward treat These are t...</td>\n",
       "      <td>1</td>\n",
       "    </tr>\n",
       "    <tr>\n",
       "      <th>568453</th>\n",
       "      <td>Great Honey I am very satisfied ,product is as...</td>\n",
       "      <td>1</td>\n",
       "    </tr>\n",
       "  </tbody>\n",
       "</table>\n",
       "<p>364164 rows × 2 columns</p>\n",
       "</div>"
      ],
      "text/plain": [
       "                                           General Review  Binary_Identify\n",
       "0       Good Quality Dog Food I have bought several of...                1\n",
       "1       Not as Advertised Product arrived labeled as J...                0\n",
       "2       \"Delight\" says it all This is a confection tha...                1\n",
       "3       Cough Medicine If you are looking for the secr...                0\n",
       "4       Great taffy Great taffy at a great price.  The...                1\n",
       "...                                                   ...              ...\n",
       "568449  Will not do without Great for sesame chicken.....                1\n",
       "568450  disappointed I'm disappointed with the flavor....                0\n",
       "568451  Perfect for our maltipoo These stars are small...                1\n",
       "568452  Favorite Training and reward treat These are t...                1\n",
       "568453  Great Honey I am very satisfied ,product is as...                1\n",
       "\n",
       "[364164 rows x 2 columns]"
      ]
     },
     "execution_count": 12,
     "metadata": {},
     "output_type": "execute_result"
    }
   ],
   "source": [
    "df_filter"
   ]
  },
  {
   "cell_type": "code",
   "execution_count": 13,
   "metadata": {
    "execution": {
     "iopub.execute_input": "2020-09-19T12:07:30.901991Z",
     "iopub.status.busy": "2020-09-19T12:07:30.901190Z",
     "iopub.status.idle": "2020-09-19T12:14:09.908110Z",
     "shell.execute_reply": "2020-09-19T12:14:09.908622Z"
    },
    "papermill": {
     "duration": 399.057539,
     "end_time": "2020-09-19T12:14:09.908809",
     "exception": false,
     "start_time": "2020-09-19T12:07:30.851270",
     "status": "completed"
    },
    "tags": []
   },
   "outputs": [],
   "source": [
    "df_filter['General Review'] = df_filter['General Review'].astype(str)\n",
    "df_filter['General Review'] = df_filter['General Review'].apply(lambda x: text_preprocess(x.lower())) # input after converting to lower case"
   ]
  },
  {
   "cell_type": "code",
   "execution_count": 14,
   "metadata": {
    "execution": {
     "iopub.execute_input": "2020-09-19T12:14:10.006711Z",
     "iopub.status.busy": "2020-09-19T12:14:10.005714Z",
     "iopub.status.idle": "2020-09-19T12:14:14.765602Z",
     "shell.execute_reply": "2020-09-19T12:14:14.764523Z"
    },
    "papermill": {
     "duration": 4.810866,
     "end_time": "2020-09-19T12:14:14.765782",
     "exception": false,
     "start_time": "2020-09-19T12:14:09.954916",
     "status": "completed"
    },
    "tags": []
   },
   "outputs": [
    {
     "name": "stdout",
     "output_type": "stream",
     "text": [
      "(364164,)\n",
      "0         good quality dog food buy several vitality can...\n",
      "1         advertise product arrive label jumbo salt pean...\n",
      "2          delight say confection around centuries light...\n",
      "3         cough medicine look secret ingredient robituss...\n",
      "4         great taffy great taffy great price wide assor...\n",
      "                                ...                        \n",
      "568449    without great sesame chicken good better restu...\n",
      "568450    disappoint disappoint flavor chocolate note es...\n",
      "568451    perfect maltipoo star small give one train ses...\n",
      "568452    favorite train reward treat best treat train r...\n",
      "568453    great honey satisfy product advertise use cere...\n",
      "Name: General Review, Length: 364164, dtype: object\n"
     ]
    }
   ],
   "source": [
    "df_filter.to_csv('NormalizeCleandf.csv',index=False)\n",
    "print(df_filter['General Review'].shape)\n",
    "print(df_filter['General Review'])"
   ]
  },
  {
   "cell_type": "code",
   "execution_count": 15,
   "metadata": {
    "execution": {
     "iopub.execute_input": "2020-09-19T12:14:14.863703Z",
     "iopub.status.busy": "2020-09-19T12:14:14.862974Z",
     "iopub.status.idle": "2020-09-19T12:14:16.341482Z",
     "shell.execute_reply": "2020-09-19T12:14:16.340731Z"
    },
    "papermill": {
     "duration": 1.530653,
     "end_time": "2020-09-19T12:14:16.341616",
     "exception": false,
     "start_time": "2020-09-19T12:14:14.810963",
     "status": "completed"
    },
    "tags": []
   },
   "outputs": [],
   "source": [
    "df_text_prep= pd.read_csv('/kaggle/input/amazonfinefood-dl/NormalizeCleandf.csv')\n",
    "\n",
    "df_text_prep['General Review'] = df_text_prep['General Review'].astype(str).copy()"
   ]
  },
  {
   "cell_type": "code",
   "execution_count": 16,
   "metadata": {
    "execution": {
     "iopub.execute_input": "2020-09-19T12:14:16.444158Z",
     "iopub.status.busy": "2020-09-19T12:14:16.443324Z",
     "iopub.status.idle": "2020-09-19T12:14:16.448456Z",
     "shell.execute_reply": "2020-09-19T12:14:16.447913Z"
    },
    "papermill": {
     "duration": 0.062,
     "end_time": "2020-09-19T12:14:16.448576",
     "exception": false,
     "start_time": "2020-09-19T12:14:16.386576",
     "status": "completed"
    },
    "tags": []
   },
   "outputs": [
    {
     "data": {
      "text/html": [
       "<div>\n",
       "<style scoped>\n",
       "    .dataframe tbody tr th:only-of-type {\n",
       "        vertical-align: middle;\n",
       "    }\n",
       "\n",
       "    .dataframe tbody tr th {\n",
       "        vertical-align: top;\n",
       "    }\n",
       "\n",
       "    .dataframe thead th {\n",
       "        text-align: right;\n",
       "    }\n",
       "</style>\n",
       "<table border=\"1\" class=\"dataframe\">\n",
       "  <thead>\n",
       "    <tr style=\"text-align: right;\">\n",
       "      <th></th>\n",
       "      <th>General Review</th>\n",
       "      <th>Binary_Identify</th>\n",
       "    </tr>\n",
       "  </thead>\n",
       "  <tbody>\n",
       "    <tr>\n",
       "      <th>0</th>\n",
       "      <td>good quality dog food buy several vitality can...</td>\n",
       "      <td>1</td>\n",
       "    </tr>\n",
       "    <tr>\n",
       "      <th>1</th>\n",
       "      <td>advertise product arrive label jumbo salt pean...</td>\n",
       "      <td>0</td>\n",
       "    </tr>\n",
       "    <tr>\n",
       "      <th>2</th>\n",
       "      <td>delight say confection around centuries light...</td>\n",
       "      <td>1</td>\n",
       "    </tr>\n",
       "    <tr>\n",
       "      <th>3</th>\n",
       "      <td>cough medicine look secret ingredient robituss...</td>\n",
       "      <td>0</td>\n",
       "    </tr>\n",
       "    <tr>\n",
       "      <th>4</th>\n",
       "      <td>great taffy great taffy great price wide assor...</td>\n",
       "      <td>1</td>\n",
       "    </tr>\n",
       "    <tr>\n",
       "      <th>...</th>\n",
       "      <td>...</td>\n",
       "      <td>...</td>\n",
       "    </tr>\n",
       "    <tr>\n",
       "      <th>364159</th>\n",
       "      <td>without great sesame chicken good better restu...</td>\n",
       "      <td>1</td>\n",
       "    </tr>\n",
       "    <tr>\n",
       "      <th>364160</th>\n",
       "      <td>disappoint disappoint flavor chocolate note es...</td>\n",
       "      <td>0</td>\n",
       "    </tr>\n",
       "    <tr>\n",
       "      <th>364161</th>\n",
       "      <td>perfect maltipoo star small give one train ses...</td>\n",
       "      <td>1</td>\n",
       "    </tr>\n",
       "    <tr>\n",
       "      <th>364162</th>\n",
       "      <td>favorite train reward treat best treat train r...</td>\n",
       "      <td>1</td>\n",
       "    </tr>\n",
       "    <tr>\n",
       "      <th>364163</th>\n",
       "      <td>great honey satisfy product advertise use cere...</td>\n",
       "      <td>1</td>\n",
       "    </tr>\n",
       "  </tbody>\n",
       "</table>\n",
       "<p>364164 rows × 2 columns</p>\n",
       "</div>"
      ],
      "text/plain": [
       "                                           General Review  Binary_Identify\n",
       "0       good quality dog food buy several vitality can...                1\n",
       "1       advertise product arrive label jumbo salt pean...                0\n",
       "2        delight say confection around centuries light...                1\n",
       "3       cough medicine look secret ingredient robituss...                0\n",
       "4       great taffy great taffy great price wide assor...                1\n",
       "...                                                   ...              ...\n",
       "364159  without great sesame chicken good better restu...                1\n",
       "364160  disappoint disappoint flavor chocolate note es...                0\n",
       "364161  perfect maltipoo star small give one train ses...                1\n",
       "364162  favorite train reward treat best treat train r...                1\n",
       "364163  great honey satisfy product advertise use cere...                1\n",
       "\n",
       "[364164 rows x 2 columns]"
      ]
     },
     "execution_count": 16,
     "metadata": {},
     "output_type": "execute_result"
    }
   ],
   "source": [
    "df_text_prep"
   ]
  },
  {
   "cell_type": "markdown",
   "metadata": {
    "papermill": {
     "duration": 0.04482,
     "end_time": "2020-09-19T12:14:16.538871",
     "exception": false,
     "start_time": "2020-09-19T12:14:16.494051",
     "status": "completed"
    },
    "tags": []
   },
   "source": [
    "# >데이터 분리(Splitting Data)"
   ]
  },
  {
   "cell_type": "code",
   "execution_count": 17,
   "metadata": {
    "execution": {
     "iopub.execute_input": "2020-09-19T12:14:16.637578Z",
     "iopub.status.busy": "2020-09-19T12:14:16.636803Z",
     "iopub.status.idle": "2020-09-19T12:14:17.095115Z",
     "shell.execute_reply": "2020-09-19T12:14:17.094278Z"
    },
    "papermill": {
     "duration": 0.51131,
     "end_time": "2020-09-19T12:14:17.095251",
     "exception": false,
     "start_time": "2020-09-19T12:14:16.583941",
     "status": "completed"
    },
    "tags": []
   },
   "outputs": [],
   "source": [
    "df_train, df_test = train_test_split(df_text_prep, test_size = 0.2, random_state = 100, shuffle =True, stratify=df_text_prep['Binary_Identify'])\n",
    "\n",
    "df_train['Binary_Identify'] = df_train['Binary_Identify'].astype('int64')\n",
    "df_train['General Review'] = df_train['General Review'].astype(str).copy()"
   ]
  },
  {
   "cell_type": "code",
   "execution_count": 18,
   "metadata": {
    "execution": {
     "iopub.execute_input": "2020-09-19T12:14:17.206104Z",
     "iopub.status.busy": "2020-09-19T12:14:17.194737Z",
     "iopub.status.idle": "2020-09-19T12:14:22.064383Z",
     "shell.execute_reply": "2020-09-19T12:14:22.063518Z"
    },
    "papermill": {
     "duration": 4.922446,
     "end_time": "2020-09-19T12:14:22.064519",
     "exception": false,
     "start_time": "2020-09-19T12:14:17.142073",
     "status": "completed"
    },
    "tags": []
   },
   "outputs": [],
   "source": [
    "df_train.to_csv('TrainTextPrep.csv', index = False)\n",
    "df_test.to_csv('TestTextPrep.csv', index = False)"
   ]
  },
  {
   "cell_type": "markdown",
   "metadata": {
    "papermill": {
     "duration": 0.045616,
     "end_time": "2020-09-19T12:14:22.156533",
     "exception": false,
     "start_time": "2020-09-19T12:14:22.110917",
     "status": "completed"
    },
    "tags": []
   },
   "source": [
    "# > **텍스트에 인덱스부여 Integer Encoding** "
   ]
  },
  {
   "cell_type": "code",
   "execution_count": 19,
   "metadata": {
    "execution": {
     "iopub.execute_input": "2020-09-19T12:14:22.258428Z",
     "iopub.status.busy": "2020-09-19T12:14:22.257661Z",
     "iopub.status.idle": "2020-09-19T12:14:23.620706Z",
     "shell.execute_reply": "2020-09-19T12:14:23.619898Z"
    },
    "papermill": {
     "duration": 1.416909,
     "end_time": "2020-09-19T12:14:23.620823",
     "exception": false,
     "start_time": "2020-09-19T12:14:22.203914",
     "status": "completed"
    },
    "tags": []
   },
   "outputs": [],
   "source": [
    "train_text_prep = pd.read_csv('/kaggle/input/amazonfinefood-dl/TrainTextPrep.csv')\n",
    "test_text_prep = pd.read_csv('/kaggle/input/amazonfinefood-dl/TestTextPrep.csv')\n",
    "\n",
    "train_text_prep['General Review'] = train_text_prep['General Review'].astype(str).copy()"
   ]
  },
  {
   "cell_type": "code",
   "execution_count": 20,
   "metadata": {
    "execution": {
     "iopub.execute_input": "2020-09-19T12:14:23.731717Z",
     "iopub.status.busy": "2020-09-19T12:14:23.726436Z",
     "iopub.status.idle": "2020-09-19T12:14:54.645304Z",
     "shell.execute_reply": "2020-09-19T12:14:54.646096Z"
    },
    "papermill": {
     "duration": 30.979471,
     "end_time": "2020-09-19T12:14:54.646287",
     "exception": false,
     "start_time": "2020-09-19T12:14:23.666816",
     "status": "completed"
    },
    "tags": []
   },
   "outputs": [
    {
     "name": "stdout",
     "output_type": "stream",
     "text": [
      "[(16, 9322), (15, 9300), (17, 9076), (14, 9070), (18, 8744), (19, 8555), (13, 8391), (20, 7965), (21, 7731), (22, 7496), (12, 7330), (23, 7107), (24, 6692), (25, 6526), (26, 6215), (11, 5993), (27, 5849), (28, 5691), (29, 5463), (30, 5294), (31, 4916), (32, 4903), (33, 4703), (10, 4449), (34, 4406), (35, 4335), (36, 4081), (38, 3755), (37, 3742), (39, 3620), (40, 3423), (41, 3328), (42, 3121), (43, 3027), (44, 2907), (45, 2746), (46, 2714), (9, 2701), (47, 2522), (48, 2449), (49, 2358), (50, 2257), (51, 2191), (52, 2025), (53, 1968), (54, 1959), (55, 1844), (57, 1776), (56, 1716), (58, 1658), (60, 1533), (59, 1530), (8, 1476), (62, 1475), (61, 1415), (63, 1360), (64, 1297), (65, 1275), (66, 1238), (67, 1187), (69, 1128), (68, 1089), (70, 1076), (71, 1003), (72, 969), (73, 949), (74, 903), (75, 848), (76, 821), (77, 764), (79, 740), (81, 731), (78, 719), (7, 714), (80, 709), (83, 661), (84, 648), (82, 617), (85, 605), (86, 584), (88, 567), (87, 544), (90, 511), (89, 500), (91, 491), (94, 464), (92, 458), (95, 452), (93, 430), (96, 428), (97, 394), (99, 392), (98, 390), (101, 378), (100, 361), (104, 350), (102, 344), (6, 343), (106, 342), (103, 332), (107, 310), (108, 308), (105, 304), (110, 293), (109, 282), (111, 260), (2, 259), (115, 253), (3, 241), (112, 239), (114, 231), (116, 229), (113, 223), (120, 217), (123, 208), (117, 205), (119, 204), (122, 202), (118, 201), (4, 196), (121, 194), (124, 192), (125, 190), (5, 187), (127, 172), (128, 157), (132, 156), (129, 156), (126, 155), (131, 152), (130, 151), (135, 141), (1, 140), (134, 140), (138, 134), (139, 134), (137, 130), (136, 118), (133, 118), (143, 116), (140, 115), (146, 113), (141, 110), (142, 109), (148, 99), (145, 99), (147, 97), (149, 97), (150, 96), (154, 96), (153, 86), (152, 83), (160, 83), (151, 83), (168, 80), (144, 78), (158, 78), (165, 78), (161, 76), (164, 72), (156, 71), (155, 71), (157, 66), (173, 64), (159, 63), (162, 63), (167, 62), (169, 61), (175, 61), (163, 59), (166, 56), (170, 55), (182, 53), (178, 53), (172, 52), (177, 48), (186, 48), (176, 48), (190, 48), (180, 48), (171, 45), (179, 44), (188, 43), (174, 43), (181, 42), (203, 41), (183, 38), (195, 37), (185, 37), (187, 35), (198, 35), (193, 34), (184, 34), (191, 34), (201, 33), (210, 33), (207, 33), (197, 32), (0, 32), (208, 31), (192, 31), (189, 30), (199, 30), (204, 29), (212, 29), (194, 28), (211, 27), (225, 27), (200, 26), (220, 26), (226, 26), (202, 26), (209, 25), (233, 24), (196, 24), (206, 24), (228, 23), (218, 23), (217, 23), (227, 22), (246, 22), (221, 22), (205, 21), (224, 20), (219, 19), (213, 19), (214, 19), (215, 18), (232, 18), (235, 18), (231, 18), (239, 18), (236, 17), (264, 16), (216, 16), (229, 15), (242, 15), (222, 15), (247, 14), (223, 14), (267, 13), (269, 13), (256, 13), (244, 13), (272, 13), (241, 12), (237, 12), (271, 12), (266, 12), (253, 12), (234, 12), (258, 12), (280, 11), (251, 11), (238, 11), (257, 11), (270, 10), (254, 10), (261, 10), (279, 10), (288, 10), (230, 10), (297, 9), (260, 9), (281, 9), (249, 9), (275, 9), (243, 9), (240, 9), (292, 9), (252, 9), (274, 9), (248, 9), (293, 8), (259, 8), (312, 8), (265, 8), (255, 8), (268, 7), (309, 7), (276, 7), (245, 7), (302, 7), (289, 7), (273, 7), (295, 7), (284, 7), (287, 6), (283, 6), (300, 6), (277, 6), (310, 6), (298, 6), (353, 6), (307, 6), (250, 6), (321, 6), (301, 6), (282, 6), (369, 5), (306, 5), (263, 5), (336, 5), (296, 4), (318, 4), (329, 4), (405, 4), (352, 4), (278, 4), (332, 4), (304, 4), (322, 4), (340, 4), (358, 4), (380, 4), (262, 4), (474, 4), (290, 4), (303, 4), (286, 4), (314, 4), (450, 4), (327, 4), (315, 4), (285, 3), (367, 3), (335, 3), (423, 3), (291, 3), (311, 3), (633, 3), (316, 3), (337, 3), (471, 3), (339, 3), (379, 3), (351, 3), (342, 3), (343, 3), (377, 3), (345, 3), (305, 3), (349, 3), (331, 3), (421, 3), (299, 3), (338, 3), (409, 3), (319, 3), (294, 3), (308, 3), (317, 3), (417, 2), (350, 2), (373, 2), (364, 2), (365, 2), (326, 2), (482, 2), (330, 2), (347, 2), (460, 2), (547, 2), (403, 2), (362, 2), (497, 2), (355, 2), (344, 2), (370, 2), (414, 2), (354, 2), (388, 2), (524, 2), (479, 2), (363, 2), (545, 2), (320, 2), (371, 2), (410, 2), (359, 2), (389, 2), (518, 2), (357, 2), (469, 2), (374, 2), (313, 2), (406, 2), (441, 2), (398, 2), (375, 2), (346, 2), (387, 2), (397, 2), (487, 1), (473, 1), (463, 1), (608, 1), (428, 1), (626, 1), (437, 1), (455, 1), (449, 1), (378, 1), (925, 1), (677, 1), (525, 1), (587, 1), (713, 1), (433, 1), (599, 1), (586, 1), (372, 1), (619, 1), (400, 1), (491, 1), (887, 1), (580, 1), (334, 1), (739, 1), (529, 1), (622, 1), (454, 1), (420, 1), (598, 1), (756, 1), (480, 1), (569, 1), (422, 1), (687, 1), (415, 1), (439, 1), (564, 1), (584, 1), (368, 1), (550, 1), (383, 1), (727, 1), (504, 1), (508, 1), (426, 1), (884, 1), (567, 1), (574, 1), (434, 1), (507, 1), (457, 1), (447, 1), (572, 1), (390, 1), (431, 1), (686, 1), (945, 1), (492, 1), (464, 1), (1321, 1), (496, 1), (522, 1), (765, 1), (407, 1), (499, 1), (652, 1), (749, 1), (323, 1), (451, 1), (733, 1), (436, 1), (391, 1), (348, 1), (477, 1), (395, 1), (418, 1), (737, 1), (589, 1), (493, 1), (621, 1), (549, 1), (552, 1), (498, 1), (555, 1), (382, 1), (708, 1), (384, 1), (512, 1), (527, 1), (376, 1), (468, 1), (411, 1), (563, 1), (456, 1), (1031, 1), (462, 1), (461, 1), (396, 1)]\n"
     ]
    }
   ],
   "source": [
    "from collections import Counter\n",
    "upToward = 5500\n",
    "tokenizer = Tokenizer(num_words=upToward)\n",
    "tokenizer.fit_on_texts(df_text_prep['General Review'])\n",
    "train_tokenized = tokenizer.texts_to_sequences(train_text_prep['General Review'])\n",
    "test_tokenized = tokenizer.texts_to_sequences(test_text_prep['General Review'])\n",
    "\n",
    "dictml = {}\n",
    "sum = 0\n",
    "max_lent = 0\n",
    "\n",
    "for i in range(len(train_tokenized)):\n",
    "    dictml[i] = len(train_tokenized[i])\n",
    "    if len(train_tokenized[i]) > max_lent:\n",
    "        max_lent = len(train_tokenized[i])        \n",
    "        \n",
    "res = Counter(dictml.values()) \n",
    "#key is length, value is number of padded having that length\n",
    "res = dict(res)\n",
    "res = sorted(res.items(), key=(lambda x: x[1]), reverse=True)\n",
    "print(res)\n",
    "#length가 140일 때의 padded가 100을 넘기고 그 후로는 100보다 작은 수의 count를 가지므로 140이 max length로 적합해보임"
   ]
  },
  {
   "cell_type": "markdown",
   "metadata": {
    "papermill": {
     "duration": 0.047179,
     "end_time": "2020-09-19T12:14:54.741081",
     "exception": false,
     "start_time": "2020-09-19T12:14:54.693902",
     "status": "completed"
    },
    "tags": []
   },
   "source": [
    " # > **제로패딩 Zero Padding** "
   ]
  },
  {
   "cell_type": "code",
   "execution_count": 21,
   "metadata": {
    "execution": {
     "iopub.execute_input": "2020-09-19T12:14:54.861503Z",
     "iopub.status.busy": "2020-09-19T12:14:54.856014Z",
     "iopub.status.idle": "2020-09-19T12:14:59.053138Z",
     "shell.execute_reply": "2020-09-19T12:14:59.052503Z"
    },
    "papermill": {
     "duration": 4.265214,
     "end_time": "2020-09-19T12:14:59.053260",
     "exception": false,
     "start_time": "2020-09-19T12:14:54.788046",
     "status": "completed"
    },
    "tags": []
   },
   "outputs": [],
   "source": [
    "from tensorflow.keras.preprocessing.sequence import pad_sequences\n",
    "\n",
    "max_length = 140\n",
    "x_train = pad_sequences(train_tokenized, maxlen=max_length, padding = 'post')\n",
    "y_train = train_text_prep['Binary_Identify']\n"
   ]
  },
  {
   "cell_type": "code",
   "execution_count": 22,
   "metadata": {
    "execution": {
     "iopub.execute_input": "2020-09-19T12:14:59.154932Z",
     "iopub.status.busy": "2020-09-19T12:14:59.153733Z",
     "iopub.status.idle": "2020-09-19T12:14:59.313152Z",
     "shell.execute_reply": "2020-09-19T12:14:59.311952Z"
    },
    "papermill": {
     "duration": 0.21265,
     "end_time": "2020-09-19T12:14:59.313329",
     "exception": false,
     "start_time": "2020-09-19T12:14:59.100679",
     "status": "completed"
    },
    "tags": []
   },
   "outputs": [],
   "source": [
    "np.save('XTrain.npy', x_train)\n",
    "np.save('YTrain.npy', y_train)"
   ]
  },
  {
   "cell_type": "code",
   "execution_count": 23,
   "metadata": {
    "execution": {
     "iopub.execute_input": "2020-09-19T12:14:59.458944Z",
     "iopub.status.busy": "2020-09-19T12:14:59.453595Z",
     "iopub.status.idle": "2020-09-19T12:15:03.341273Z",
     "shell.execute_reply": "2020-09-19T12:15:03.340680Z"
    },
    "papermill": {
     "duration": 3.975822,
     "end_time": "2020-09-19T12:15:03.341397",
     "exception": false,
     "start_time": "2020-09-19T12:14:59.365575",
     "status": "completed"
    },
    "tags": []
   },
   "outputs": [],
   "source": [
    "test_tokenized = tokenizer.texts_to_sequences(test_text_prep['General Review'])\n",
    "x_test = pad_sequences(test_tokenized, maxlen=max_length, padding= 'post')\n",
    "y_test = test_text_prep['Binary_Identify']"
   ]
  },
  {
   "cell_type": "code",
   "execution_count": 24,
   "metadata": {
    "execution": {
     "iopub.execute_input": "2020-09-19T12:15:03.440304Z",
     "iopub.status.busy": "2020-09-19T12:15:03.439099Z",
     "iopub.status.idle": "2020-09-19T12:15:03.477446Z",
     "shell.execute_reply": "2020-09-19T12:15:03.476783Z"
    },
    "papermill": {
     "duration": 0.090365,
     "end_time": "2020-09-19T12:15:03.477573",
     "exception": false,
     "start_time": "2020-09-19T12:15:03.387208",
     "status": "completed"
    },
    "tags": []
   },
   "outputs": [],
   "source": [
    "np.save('XTest.npy', x_test)\n",
    "np.save('YTest.npy', y_test)"
   ]
  },
  {
   "cell_type": "markdown",
   "metadata": {
    "papermill": {
     "duration": 0.045944,
     "end_time": "2020-09-19T12:15:03.569527",
     "exception": false,
     "start_time": "2020-09-19T12:15:03.523583",
     "status": "completed"
    },
    "tags": []
   },
   "source": [
    "# > Pretrained Embedding(Word2vec)"
   ]
  },
  {
   "cell_type": "code",
   "execution_count": 25,
   "metadata": {
    "execution": {
     "iopub.execute_input": "2020-09-19T12:15:03.670917Z",
     "iopub.status.busy": "2020-09-19T12:15:03.669830Z",
     "iopub.status.idle": "2020-09-19T12:15:40.983157Z",
     "shell.execute_reply": "2020-09-19T12:15:40.983726Z"
    },
    "papermill": {
     "duration": 37.36851,
     "end_time": "2020-09-19T12:15:40.983895",
     "exception": false,
     "start_time": "2020-09-19T12:15:03.615385",
     "status": "completed"
    },
    "tags": []
   },
   "outputs": [
    {
     "data": {
      "text/plain": [
       "(110315, 300)"
      ]
     },
     "execution_count": 25,
     "metadata": {},
     "output_type": "execute_result"
    }
   ],
   "source": [
    "## Pretrained Embedding: Word2Vec\n",
    "word2vec = KeyedVectors.load_word2vec_format(\"/kaggle/input/word2vec/GoogleNews-vectors-negative300.bin\", binary=True)\n",
    "\n",
    "VOCAB_SIZE = len(tokenizer.word_index) + 1\n",
    "EMBEDDING_DIM = 300\n",
    "embedding_matrix = np.zeros((VOCAB_SIZE, EMBEDDING_DIM))\n",
    "\n",
    "# tokenizer에 있는 단어 사전을 순회하면서 word2vec의 300차원 vector를 가져옵니다\n",
    "for word, idx in tokenizer.word_index.items():\n",
    "    embedding_vector = word2vec[word] if word in word2vec else None\n",
    "    if embedding_vector is not None:\n",
    "        embedding_matrix[idx] = embedding_vector\n",
    "        \n",
    "np.save(\"word2vec_embedding_weights.npy\", embedding_matrix)\n",
    "embedding_matrix.shape"
   ]
  },
  {
   "cell_type": "code",
   "execution_count": 26,
   "metadata": {
    "execution": {
     "iopub.execute_input": "2020-09-19T12:15:41.083703Z",
     "iopub.status.busy": "2020-09-19T12:15:41.082961Z",
     "iopub.status.idle": "2020-09-19T12:15:41.698986Z",
     "shell.execute_reply": "2020-09-19T12:15:41.698286Z"
    },
    "papermill": {
     "duration": 0.667318,
     "end_time": "2020-09-19T12:15:41.699158",
     "exception": false,
     "start_time": "2020-09-19T12:15:41.031840",
     "status": "completed"
    },
    "tags": []
   },
   "outputs": [],
   "source": [
    "# 여기서부터 다시 돌리면 됩니다\n",
    "\n",
    "word2vec_embedding = np.load('/kaggle/input/amazonfinefood-dl/word2vec_embedding_weights.npy')"
   ]
  },
  {
   "cell_type": "markdown",
   "metadata": {
    "papermill": {
     "duration": 0.050244,
     "end_time": "2020-09-19T12:15:41.798176",
     "exception": false,
     "start_time": "2020-09-19T12:15:41.747932",
     "status": "completed"
    },
    "tags": []
   },
   "source": [
    "# > Random Embedding(keras.layers.Embedding)"
   ]
  },
  {
   "cell_type": "code",
   "execution_count": 27,
   "metadata": {
    "execution": {
     "iopub.execute_input": "2020-09-19T12:15:41.903547Z",
     "iopub.status.busy": "2020-09-19T12:15:41.902566Z",
     "iopub.status.idle": "2020-09-19T12:15:43.589850Z",
     "shell.execute_reply": "2020-09-19T12:15:43.588712Z"
    },
    "papermill": {
     "duration": 1.743619,
     "end_time": "2020-09-19T12:15:43.590069",
     "exception": false,
     "start_time": "2020-09-19T12:15:41.846450",
     "status": "completed"
    },
    "tags": []
   },
   "outputs": [
    {
     "name": "stdout",
     "output_type": "stream",
     "text": [
      "padded된 행의 max_len 값 : 140\n",
      "단어 집합의 크기 : 5500\n",
      "padded의 행 개수 : 291331\n"
     ]
    }
   ],
   "source": [
    "vocab_size = max(np.unique(x_train)) + 1 # 단어집합 크기\n",
    "\n",
    "max_len = 0\n",
    "for i in range(291331):\n",
    "    if len(x_train[i]) > max_len:\n",
    "        max_len = len(x_train[i])\n",
    "print('padded된 행의 max_len 값 :', max_len)# index된 문장의 max length = padding된 length\n",
    "\n",
    "print('단어 집합의 크기 :', vocab_size)\n",
    "batch_size = len(x_train[:,0]) # padded의 행 개수\n",
    "print('padded의 행 개수 :', batch_size)\n",
    "ebd_dim = 300 # embedding 후 vector의 dimension\n",
    "\n",
    "VOCAB_SIZE = len(tokenizer.word_index) + 1"
   ]
  },
  {
   "cell_type": "markdown",
   "metadata": {
    "papermill": {
     "duration": 0.04699,
     "end_time": "2020-09-19T12:15:43.684549",
     "exception": false,
     "start_time": "2020-09-19T12:15:43.637559",
     "status": "completed"
    },
    "tags": []
   },
   "source": [
    "# >Building Model"
   ]
  },
  {
   "cell_type": "code",
   "execution_count": 28,
   "metadata": {
    "execution": {
     "iopub.execute_input": "2020-09-19T12:15:43.813219Z",
     "iopub.status.busy": "2020-09-19T12:15:43.811915Z",
     "iopub.status.idle": "2020-09-19T12:15:44.041282Z",
     "shell.execute_reply": "2020-09-19T12:15:44.040538Z"
    },
    "papermill": {
     "duration": 0.295855,
     "end_time": "2020-09-19T12:15:44.041403",
     "exception": false,
     "start_time": "2020-09-19T12:15:43.745548",
     "status": "completed"
    },
    "tags": []
   },
   "outputs": [],
   "source": [
    "X_train = np.load('/kaggle/input/amazonfinefood-dl/XTrain.npy')\n",
    "Y_train = np.load('/kaggle/input/amazonfinefood-dl/YTrain.npy')\n",
    "X_test = np.load('/kaggle/input/amazonfinefood-dl/XTest.npy')\n",
    "Y_test = np.load('/kaggle/input/amazonfinefood-dl/YTest.npy')"
   ]
  },
  {
   "cell_type": "code",
   "execution_count": 29,
   "metadata": {
    "execution": {
     "iopub.execute_input": "2020-09-19T12:15:44.144726Z",
     "iopub.status.busy": "2020-09-19T12:15:44.143998Z",
     "iopub.status.idle": "2020-09-19T12:15:46.188657Z",
     "shell.execute_reply": "2020-09-19T12:15:46.187642Z"
    },
    "papermill": {
     "duration": 2.099968,
     "end_time": "2020-09-19T12:15:46.188831",
     "exception": false,
     "start_time": "2020-09-19T12:15:44.088863",
     "status": "completed"
    },
    "tags": []
   },
   "outputs": [
    {
     "name": "stdout",
     "output_type": "stream",
     "text": [
      "Model: \"sequential\"\n",
      "_________________________________________________________________\n",
      "Layer (type)                 Output Shape              Param #   \n",
      "=================================================================\n",
      "embedding (Embedding)        (None, 140, 300)          1650000   \n",
      "_________________________________________________________________\n",
      "lstm (LSTM)                  (None, 128)               219648    \n",
      "_________________________________________________________________\n",
      "dense (Dense)                (None, 1)                 129       \n",
      "=================================================================\n",
      "Total params: 1,869,777\n",
      "Trainable params: 1,869,777\n",
      "Non-trainable params: 0\n",
      "_________________________________________________________________\n"
     ]
    }
   ],
   "source": [
    "# \n",
    "with tpu_strategy.scope():\n",
    "    model = tf.keras.Sequential() # define your model normally\n",
    "    model.add(Embedding(upToward, ebd_dim, input_length=max_len, embeddings_initializer='uniform',mask_zero=True))\n",
    "    model.add(LSTM(128))\n",
    "    model.add(Dense(1,activation = 'sigmoid'))\n",
    "    model.compile(loss='binary_crossentropy', optimizer = 'adam', metrics=['accuracy', recall_m, precision_m, f1_m])\n",
    "    model.summary()"
   ]
  },
  {
   "cell_type": "code",
   "execution_count": 30,
   "metadata": {
    "execution": {
     "iopub.execute_input": "2020-09-19T12:15:46.303316Z",
     "iopub.status.busy": "2020-09-19T12:15:46.302510Z",
     "iopub.status.idle": "2020-09-19T12:15:51.523078Z",
     "shell.execute_reply": "2020-09-19T12:15:51.522270Z"
    },
    "papermill": {
     "duration": 5.283248,
     "end_time": "2020-09-19T12:15:51.523246",
     "exception": false,
     "start_time": "2020-09-19T12:15:46.239998",
     "status": "completed"
    },
    "tags": []
   },
   "outputs": [
    {
     "name": "stdout",
     "output_type": "stream",
     "text": [
      "Model: \"sequential_1\"\n",
      "_________________________________________________________________\n",
      "Layer (type)                 Output Shape              Param #   \n",
      "=================================================================\n",
      "embedding_1 (Embedding)      (None, 140, 300)          33094500  \n",
      "_________________________________________________________________\n",
      "lstm_1 (LSTM)                (None, 128)               219648    \n",
      "_________________________________________________________________\n",
      "dense_1 (Dense)              (None, 1)                 129       \n",
      "=================================================================\n",
      "Total params: 33,314,277\n",
      "Trainable params: 219,777\n",
      "Non-trainable params: 33,094,500\n",
      "_________________________________________________________________\n"
     ]
    }
   ],
   "source": [
    "# Word2Vec\n",
    "with tpu_strategy.scope():\n",
    "    model1 = tf.keras.Sequential()\n",
    "    model1.add(Embedding(VOCAB_SIZE, \n",
    "                    ebd_dim, \n",
    "                    input_length=max_length, \n",
    "                    weights=[word2vec_embedding], # weight는 바로 위의 embedding_matrix 대입\n",
    "                    trainable=False , # embedding layer에 대한 train은 꼭 false로 지정\n",
    "                    embeddings_initializer='uniform',mask_zero=True)\n",
    "             )\n",
    "    model1.add(LSTM(128))\n",
    "    model1.add(Dense(1,activation = 'sigmoid'))\n",
    "    model1.compile(loss='binary_crossentropy', optimizer = 'adam', metrics=['accuracy', recall_m, precision_m, f1_m])\n",
    "    model1.summary()"
   ]
  },
  {
   "cell_type": "code",
   "execution_count": 31,
   "metadata": {
    "execution": {
     "iopub.execute_input": "2020-09-19T12:15:51.637436Z",
     "iopub.status.busy": "2020-09-19T12:15:51.636713Z",
     "iopub.status.idle": "2020-09-19T12:15:54.783464Z",
     "shell.execute_reply": "2020-09-19T12:15:54.784286Z"
    },
    "papermill": {
     "duration": 3.211191,
     "end_time": "2020-09-19T12:15:54.784493",
     "exception": false,
     "start_time": "2020-09-19T12:15:51.573302",
     "status": "completed"
    },
    "tags": []
   },
   "outputs": [
    {
     "name": "stdout",
     "output_type": "stream",
     "text": [
      "Model: \"sequential_2\"\n",
      "_________________________________________________________________\n",
      "Layer (type)                 Output Shape              Param #   \n",
      "=================================================================\n",
      "embedding_2 (Embedding)      (None, 140, 300)          1650000   \n",
      "_________________________________________________________________\n",
      "bidirectional (Bidirectional (None, 140, 100)          140400    \n",
      "_________________________________________________________________\n",
      "bidirectional_1 (Bidirection (None, 100)               60400     \n",
      "_________________________________________________________________\n",
      "dense_2 (Dense)              (None, 6)                 606       \n",
      "_________________________________________________________________\n",
      "dense_3 (Dense)              (None, 1)                 7         \n",
      "=================================================================\n",
      "Total params: 1,851,413\n",
      "Trainable params: 1,851,413\n",
      "Non-trainable params: 0\n",
      "_________________________________________________________________\n"
     ]
    }
   ],
   "source": [
    "# Bidirection, L2 reg\n",
    "with tpu_strategy.scope():\n",
    "    model2 = tf.keras.Sequential()\n",
    "    model2.add(Embedding(upToward, ebd_dim, input_length=max_len, embeddings_initializer='uniform',mask_zero=True))\n",
    "    \n",
    "    model2.add(Bidirectional(LSTM(units=50, return_sequences=True, recurrent_dropout=0.1)))\n",
    "    model2.add(Bidirectional(LSTM(units=50)))\n",
    "    model2.add(Dense(6,'relu', kernel_regularizer=regularizers.l2(0.001)))\n",
    "    model2.add(Dense(1,activation = 'sigmoid'))\n",
    "    model2.compile(loss='binary_crossentropy', optimizer = 'adam', metrics=['accuracy', recall_m, precision_m, f1_m])\n",
    "    model2.summary()"
   ]
  },
  {
   "cell_type": "code",
   "execution_count": 32,
   "metadata": {
    "execution": {
     "iopub.execute_input": "2020-09-19T12:15:54.986290Z",
     "iopub.status.busy": "2020-09-19T12:15:54.985595Z",
     "iopub.status.idle": "2020-09-19T12:16:00.890977Z",
     "shell.execute_reply": "2020-09-19T12:16:00.890262Z"
    },
    "papermill": {
     "duration": 6.033406,
     "end_time": "2020-09-19T12:16:00.891243",
     "exception": false,
     "start_time": "2020-09-19T12:15:54.857837",
     "status": "completed"
    },
    "tags": []
   },
   "outputs": [
    {
     "name": "stdout",
     "output_type": "stream",
     "text": [
      "Model: \"sequential_3\"\n",
      "_________________________________________________________________\n",
      "Layer (type)                 Output Shape              Param #   \n",
      "=================================================================\n",
      "embedding_3 (Embedding)      (None, 140, 300)          33094500  \n",
      "_________________________________________________________________\n",
      "bidirectional_2 (Bidirection (None, 140, 100)          140400    \n",
      "_________________________________________________________________\n",
      "bidirectional_3 (Bidirection (None, 100)               60400     \n",
      "_________________________________________________________________\n",
      "dense_4 (Dense)              (None, 1)                 101       \n",
      "=================================================================\n",
      "Total params: 33,295,401\n",
      "Trainable params: 200,901\n",
      "Non-trainable params: 33,094,500\n",
      "_________________________________________________________________\n"
     ]
    }
   ],
   "source": [
    "# Word2Vec, Bidirection\n",
    "with tpu_strategy.scope():\n",
    "    model3 = tf.keras.Sequential()\n",
    "    model3.add(Embedding(VOCAB_SIZE, \n",
    "                    ebd_dim, \n",
    "                    input_length=max_length, \n",
    "                    weights=[word2vec_embedding],\n",
    "                    trainable=False , # embedding layer에 대한 train은 꼭 false로 지정\n",
    "                    embeddings_initializer='uniform',mask_zero=True)\n",
    "             )\n",
    "    model3.add(Bidirectional(LSTM(units=50, return_sequences=True, recurrent_dropout=0.1)))\n",
    "    model3.add(Bidirectional(LSTM(units=50)))\n",
    "    model3.add(Dense(1,activation = 'sigmoid'))\n",
    "    model3.compile(loss='binary_crossentropy', optimizer = 'adam', metrics=['accuracy', recall_m, precision_m, f1_m])\n",
    "    model3.summary()"
   ]
  },
  {
   "cell_type": "code",
   "execution_count": 33,
   "metadata": {
    "execution": {
     "iopub.execute_input": "2020-09-19T12:16:01.004322Z",
     "iopub.status.busy": "2020-09-19T12:16:01.003611Z",
     "iopub.status.idle": "2020-09-19T12:16:02.026172Z",
     "shell.execute_reply": "2020-09-19T12:16:02.028473Z"
    },
    "papermill": {
     "duration": 1.087162,
     "end_time": "2020-09-19T12:16:02.028692",
     "exception": false,
     "start_time": "2020-09-19T12:16:00.941530",
     "status": "completed"
    },
    "tags": []
   },
   "outputs": [
    {
     "name": "stdout",
     "output_type": "stream",
     "text": [
      "Model: \"sequential_4\"\n",
      "_________________________________________________________________\n",
      "Layer (type)                 Output Shape              Param #   \n",
      "=================================================================\n",
      "embedding_4 (Embedding)      (None, 140, 300)          1650000   \n",
      "_________________________________________________________________\n",
      "lstm_6 (LSTM)                (None, 128)               219648    \n",
      "_________________________________________________________________\n",
      "dense_5 (Dense)              (None, 1)                 129       \n",
      "=================================================================\n",
      "Total params: 1,869,777\n",
      "Trainable params: 1,869,777\n",
      "Non-trainable params: 0\n",
      "_________________________________________________________________\n"
     ]
    }
   ],
   "source": [
    "# L2 reg\n",
    "with tpu_strategy.scope():\n",
    "    model4 = tf.keras.Sequential()\n",
    "    model4.add(Embedding(upToward, ebd_dim, input_length=max_len, embeddings_initializer='uniform',mask_zero=True))\n",
    "    model4.add(LSTM(128))\n",
    "    model4.add(Dense(1,activation = 'sigmoid',kernel_regularizer=regularizers.l2(0.001)))\n",
    "    model4.compile(loss='binary_crossentropy', optimizer = 'adam', metrics=['accuracy', recall_m, precision_m, f1_m])\n",
    "    model4.summary()"
   ]
  },
  {
   "cell_type": "code",
   "execution_count": 34,
   "metadata": {
    "execution": {
     "iopub.execute_input": "2020-09-19T12:16:02.145109Z",
     "iopub.status.busy": "2020-09-19T12:16:02.143503Z",
     "iopub.status.idle": "2020-09-19T12:16:04.781307Z",
     "shell.execute_reply": "2020-09-19T12:16:04.780306Z"
    },
    "papermill": {
     "duration": 2.700504,
     "end_time": "2020-09-19T12:16:04.781431",
     "exception": false,
     "start_time": "2020-09-19T12:16:02.080927",
     "status": "completed"
    },
    "tags": []
   },
   "outputs": [
    {
     "name": "stdout",
     "output_type": "stream",
     "text": [
      "Model: \"sequential_5\"\n",
      "_________________________________________________________________\n",
      "Layer (type)                 Output Shape              Param #   \n",
      "=================================================================\n",
      "embedding_5 (Embedding)      (None, 140, 300)          1650000   \n",
      "_________________________________________________________________\n",
      "bidirectional_4 (Bidirection (None, 140, 100)          140400    \n",
      "_________________________________________________________________\n",
      "bidirectional_5 (Bidirection (None, 100)               60400     \n",
      "_________________________________________________________________\n",
      "dense_6 (Dense)              (None, 1)                 101       \n",
      "=================================================================\n",
      "Total params: 1,850,901\n",
      "Trainable params: 1,850,901\n",
      "Non-trainable params: 0\n",
      "_________________________________________________________________\n"
     ]
    }
   ],
   "source": [
    "# Bidirection\n",
    "with tpu_strategy.scope():\n",
    "    model5 = tf.keras.Sequential() # define your model normally\n",
    "    model5.add(Embedding(upToward, ebd_dim, input_length=max_len, embeddings_initializer='uniform',mask_zero=True))\n",
    "    model5.add(Bidirectional(LSTM(units =50, return_sequences = True, recurrent_dropout=0.1)))\n",
    "    model5.add(Bidirectional(LSTM(50)))\n",
    "    model5.add(Dense(1,activation = 'sigmoid'))\n",
    "    model5.compile(loss='binary_crossentropy', optimizer = 'adam', metrics=['accuracy', recall_m, precision_m, f1_m])\n",
    "    model5.summary()"
   ]
  },
  {
   "cell_type": "code",
   "execution_count": 35,
   "metadata": {
    "execution": {
     "iopub.execute_input": "2020-09-19T12:16:04.890307Z",
     "iopub.status.busy": "2020-09-19T12:16:04.889399Z",
     "iopub.status.idle": "2020-09-19T12:16:04.891756Z",
     "shell.execute_reply": "2020-09-19T12:16:04.892278Z"
    },
    "papermill": {
     "duration": 0.058631,
     "end_time": "2020-09-19T12:16:04.892419",
     "exception": false,
     "start_time": "2020-09-19T12:16:04.833788",
     "status": "completed"
    },
    "tags": []
   },
   "outputs": [],
   "source": [
    "es = EarlyStopping(monitor='val_loss', mode='min', verbose=1, patience=2)\n",
    "\n",
    "mc = ModelCheckpoint('best_model.h5', monitor='val_acc', mode='max', verbose=1, save_best_only=True)"
   ]
  },
  {
   "cell_type": "code",
   "execution_count": 36,
   "metadata": {
    "execution": {
     "iopub.execute_input": "2020-09-19T12:16:05.000883Z",
     "iopub.status.busy": "2020-09-19T12:16:04.999807Z",
     "iopub.status.idle": "2020-09-19T12:16:57.119056Z",
     "shell.execute_reply": "2020-09-19T12:16:57.118468Z"
    },
    "papermill": {
     "duration": 52.177555,
     "end_time": "2020-09-19T12:16:57.119174",
     "exception": false,
     "start_time": "2020-09-19T12:16:04.941619",
     "status": "completed"
    },
    "tags": []
   },
   "outputs": [
    {
     "name": "stdout",
     "output_type": "stream",
     "text": [
      "Epoch 1/20\n",
      "228/228 [==============================] - 12s 54ms/step - precision_m: 0.9322 - accuracy: 0.9134 - recall_m: 0.9705 - loss: 0.2266 - f1_m: 0.9496 - val_precision_m: 0.9448 - val_accuracy: 0.9358 - val_recall_m: 0.9813 - val_loss: 0.1616 - val_f1_m: 0.9625\n",
      "Epoch 2/20\n",
      "228/228 [==============================] - 8s 33ms/step - precision_m: 0.9580 - accuracy: 0.9429 - recall_m: 0.9751 - loss: 0.1484 - f1_m: 0.9663 - val_precision_m: 0.9596 - val_accuracy: 0.9389 - val_recall_m: 0.9683 - val_loss: 0.1562 - val_f1_m: 0.9638\n",
      "Epoch 3/20\n",
      "228/228 [==============================] - 7s 33ms/step - precision_m: 0.9616 - accuracy: 0.9469 - recall_m: 0.9759 - loss: 0.1365 - f1_m: 0.9686 - val_precision_m: 0.9597 - val_accuracy: 0.9416 - val_recall_m: 0.9715 - val_loss: 0.1489 - val_f1_m: 0.9654\n",
      "Epoch 4/20\n",
      "228/228 [==============================] - 7s 33ms/step - precision_m: 0.9652 - accuracy: 0.9511 - recall_m: 0.9773 - loss: 0.1252 - f1_m: 0.9711 - val_precision_m: 0.9552 - val_accuracy: 0.9418 - val_recall_m: 0.9769 - val_loss: 0.1580 - val_f1_m: 0.9658\n",
      "Epoch 5/20\n",
      "228/228 [==============================] - 8s 33ms/step - precision_m: 0.9679 - accuracy: 0.9550 - recall_m: 0.9790 - loss: 0.1163 - f1_m: 0.9733 - val_precision_m: 0.9529 - val_accuracy: 0.9413 - val_recall_m: 0.9788 - val_loss: 0.1569 - val_f1_m: 0.9655\n",
      "Epoch 00005: early stopping\n"
     ]
    }
   ],
   "source": [
    "# \n",
    "history = model.fit(X_train, Y_train, epochs=20, callbacks=[es,mc], batch_size=1024, validation_split=0.2)"
   ]
  },
  {
   "cell_type": "code",
   "execution_count": 37,
   "metadata": {
    "execution": {
     "iopub.execute_input": "2020-09-19T12:16:57.602628Z",
     "iopub.status.busy": "2020-09-19T12:16:57.601647Z",
     "iopub.status.idle": "2020-09-19T12:18:59.042838Z",
     "shell.execute_reply": "2020-09-19T12:18:59.041990Z"
    },
    "papermill": {
     "duration": 121.684556,
     "end_time": "2020-09-19T12:18:59.042973",
     "exception": false,
     "start_time": "2020-09-19T12:16:57.358417",
     "status": "completed"
    },
    "tags": []
   },
   "outputs": [
    {
     "name": "stdout",
     "output_type": "stream",
     "text": [
      "Epoch 1/20\n",
      "228/228 [==============================] - 10s 44ms/step - precision_m: 0.9085 - accuracy: 0.8888 - recall_m: 0.9679 - loss: 0.2735 - f1_m: 0.9361 - val_precision_m: 0.9454 - val_accuracy: 0.9148 - val_recall_m: 0.9541 - val_loss: 0.2044 - val_f1_m: 0.9495\n",
      "Epoch 2/20\n",
      "228/228 [==============================] - 7s 29ms/step - precision_m: 0.9394 - accuracy: 0.9216 - recall_m: 0.9696 - loss: 0.1965 - f1_m: 0.9540 - val_precision_m: 0.9537 - val_accuracy: 0.9245 - val_recall_m: 0.9569 - val_loss: 0.1862 - val_f1_m: 0.9551\n",
      "Epoch 3/20\n",
      "228/228 [==============================] - 7s 29ms/step - precision_m: 0.9459 - accuracy: 0.9297 - recall_m: 0.9724 - loss: 0.1785 - f1_m: 0.9587 - val_precision_m: 0.9523 - val_accuracy: 0.9316 - val_recall_m: 0.9673 - val_loss: 0.1702 - val_f1_m: 0.9596\n",
      "Epoch 4/20\n",
      "228/228 [==============================] - 7s 29ms/step - precision_m: 0.9502 - accuracy: 0.9341 - recall_m: 0.9730 - loss: 0.1672 - f1_m: 0.9612 - val_precision_m: 0.9472 - val_accuracy: 0.9348 - val_recall_m: 0.9772 - val_loss: 0.1642 - val_f1_m: 0.9618\n",
      "Epoch 5/20\n",
      "228/228 [==============================] - 7s 29ms/step - precision_m: 0.9533 - accuracy: 0.9381 - recall_m: 0.9744 - loss: 0.1581 - f1_m: 0.9635 - val_precision_m: 0.9547 - val_accuracy: 0.9367 - val_recall_m: 0.9711 - val_loss: 0.1562 - val_f1_m: 0.9626\n",
      "Epoch 6/20\n",
      "228/228 [==============================] - 7s 29ms/step - precision_m: 0.9557 - accuracy: 0.9404 - recall_m: 0.9746 - loss: 0.1513 - f1_m: 0.9648 - val_precision_m: 0.9638 - val_accuracy: 0.9384 - val_recall_m: 0.9631 - val_loss: 0.1557 - val_f1_m: 0.9633\n",
      "Epoch 7/20\n",
      "228/228 [==============================] - 7s 30ms/step - precision_m: 0.9579 - accuracy: 0.9434 - recall_m: 0.9758 - loss: 0.1447 - f1_m: 0.9666 - val_precision_m: 0.9592 - val_accuracy: 0.9412 - val_recall_m: 0.9717 - val_loss: 0.1473 - val_f1_m: 0.9652\n",
      "Epoch 8/20\n",
      "228/228 [==============================] - 8s 35ms/step - precision_m: 0.9596 - accuracy: 0.9457 - recall_m: 0.9768 - loss: 0.1396 - f1_m: 0.9679 - val_precision_m: 0.9601 - val_accuracy: 0.9415 - val_recall_m: 0.9710 - val_loss: 0.1476 - val_f1_m: 0.9654\n",
      "Epoch 9/20\n",
      "228/228 [==============================] - 7s 30ms/step - precision_m: 0.9614 - accuracy: 0.9474 - recall_m: 0.9769 - loss: 0.1348 - f1_m: 0.9689 - val_precision_m: 0.9550 - val_accuracy: 0.9429 - val_recall_m: 0.9784 - val_loss: 0.1449 - val_f1_m: 0.9664\n",
      "Epoch 10/20\n",
      "228/228 [==============================] - 7s 30ms/step - precision_m: 0.9631 - accuracy: 0.9496 - recall_m: 0.9777 - loss: 0.1292 - f1_m: 0.9702 - val_precision_m: 0.9499 - val_accuracy: 0.9419 - val_recall_m: 0.9830 - val_loss: 0.1460 - val_f1_m: 0.9660\n",
      "Epoch 11/20\n",
      "228/228 [==============================] - 7s 30ms/step - precision_m: 0.9652 - accuracy: 0.9522 - recall_m: 0.9786 - loss: 0.1235 - f1_m: 0.9717 - val_precision_m: 0.9551 - val_accuracy: 0.9442 - val_recall_m: 0.9800 - val_loss: 0.1424 - val_f1_m: 0.9672\n",
      "Epoch 12/20\n",
      "228/228 [==============================] - 7s 29ms/step - precision_m: 0.9663 - accuracy: 0.9538 - recall_m: 0.9793 - loss: 0.1203 - f1_m: 0.9726 - val_precision_m: 0.9519 - val_accuracy: 0.9435 - val_recall_m: 0.9826 - val_loss: 0.1474 - val_f1_m: 0.9669\n",
      "Epoch 13/20\n",
      "228/228 [==============================] - 7s 29ms/step - precision_m: 0.9677 - accuracy: 0.9555 - recall_m: 0.9800 - loss: 0.1156 - f1_m: 0.9737 - val_precision_m: 0.9619 - val_accuracy: 0.9444 - val_recall_m: 0.9727 - val_loss: 0.1417 - val_f1_m: 0.9671\n",
      "Epoch 14/20\n",
      "228/228 [==============================] - 7s 30ms/step - precision_m: 0.9696 - accuracy: 0.9575 - recall_m: 0.9804 - loss: 0.1103 - f1_m: 0.9748 - val_precision_m: 0.9611 - val_accuracy: 0.9459 - val_recall_m: 0.9754 - val_loss: 0.1401 - val_f1_m: 0.9681\n",
      "Epoch 15/20\n",
      "228/228 [==============================] - 7s 30ms/step - precision_m: 0.9710 - accuracy: 0.9598 - recall_m: 0.9817 - loss: 0.1050 - f1_m: 0.9762 - val_precision_m: 0.9692 - val_accuracy: 0.9424 - val_recall_m: 0.9623 - val_loss: 0.1495 - val_f1_m: 0.9656\n",
      "Epoch 16/20\n",
      "228/228 [==============================] - 7s 30ms/step - precision_m: 0.9722 - accuracy: 0.9612 - recall_m: 0.9822 - loss: 0.1010 - f1_m: 0.9770 - val_precision_m: 0.9518 - val_accuracy: 0.9432 - val_recall_m: 0.9824 - val_loss: 0.1501 - val_f1_m: 0.9667\n",
      "Epoch 00016: early stopping\n"
     ]
    }
   ],
   "source": [
    "# \n",
    "history1 = model1.fit(X_train, Y_train, epochs=20, callbacks=[es,mc], batch_size=1024, validation_split=0.2)"
   ]
  },
  {
   "cell_type": "code",
   "execution_count": 38,
   "metadata": {
    "execution": {
     "iopub.execute_input": "2020-09-19T12:19:00.408497Z",
     "iopub.status.busy": "2020-09-19T12:19:00.407605Z",
     "iopub.status.idle": "2020-09-19T12:20:31.083302Z",
     "shell.execute_reply": "2020-09-19T12:20:31.082543Z"
    },
    "papermill": {
     "duration": 91.345188,
     "end_time": "2020-09-19T12:20:31.083448",
     "exception": false,
     "start_time": "2020-09-19T12:18:59.738260",
     "status": "completed"
    },
    "tags": []
   },
   "outputs": [
    {
     "name": "stdout",
     "output_type": "stream",
     "text": [
      "Epoch 1/20\n",
      "228/228 [==============================] - 21s 93ms/step - precision_m: 0.9378 - accuracy: 0.9206 - recall_m: 0.9725 - loss: 0.2123 - f1_m: 0.9538 - val_precision_m: 0.9550 - val_accuracy: 0.9416 - val_recall_m: 0.9768 - val_loss: 0.1547 - val_f1_m: 0.9656\n",
      "Epoch 2/20\n",
      "228/228 [==============================] - 13s 55ms/step - precision_m: 0.9611 - accuracy: 0.9462 - recall_m: 0.9757 - loss: 0.1439 - f1_m: 0.9682 - val_precision_m: 0.9621 - val_accuracy: 0.9436 - val_recall_m: 0.9714 - val_loss: 0.1480 - val_f1_m: 0.9666\n",
      "Epoch 3/20\n",
      "228/228 [==============================] - 13s 56ms/step - precision_m: 0.9656 - accuracy: 0.9515 - recall_m: 0.9774 - loss: 0.1289 - f1_m: 0.9713 - val_precision_m: 0.9606 - val_accuracy: 0.9439 - val_recall_m: 0.9734 - val_loss: 0.1468 - val_f1_m: 0.9668\n",
      "Epoch 4/20\n",
      "228/228 [==============================] - 13s 56ms/step - precision_m: 0.9695 - accuracy: 0.9567 - recall_m: 0.9794 - loss: 0.1160 - f1_m: 0.9743 - val_precision_m: 0.9611 - val_accuracy: 0.9432 - val_recall_m: 0.9720 - val_loss: 0.1497 - val_f1_m: 0.9664\n",
      "Epoch 5/20\n",
      "228/228 [==============================] - 13s 56ms/step - precision_m: 0.9734 - accuracy: 0.9616 - recall_m: 0.9812 - loss: 0.1041 - f1_m: 0.9772 - val_precision_m: 0.9641 - val_accuracy: 0.9406 - val_recall_m: 0.9655 - val_loss: 0.1569 - val_f1_m: 0.9646\n",
      "Epoch 00005: early stopping\n"
     ]
    }
   ],
   "source": [
    "# \n",
    "history2 = model2.fit(X_train, Y_train, epochs=20, callbacks=[es,mc], batch_size=1024, validation_split=0.2)"
   ]
  },
  {
   "cell_type": "code",
   "execution_count": 39,
   "metadata": {
    "execution": {
     "iopub.execute_input": "2020-09-19T12:20:32.838561Z",
     "iopub.status.busy": "2020-09-19T12:20:32.837670Z",
     "iopub.status.idle": "2020-09-19T12:22:41.390054Z",
     "shell.execute_reply": "2020-09-19T12:22:41.388916Z"
    },
    "papermill": {
     "duration": 129.423332,
     "end_time": "2020-09-19T12:22:41.390256",
     "exception": false,
     "start_time": "2020-09-19T12:20:31.966924",
     "status": "completed"
    },
    "tags": []
   },
   "outputs": [
    {
     "name": "stdout",
     "output_type": "stream",
     "text": [
      "Epoch 1/20\n",
      "228/228 [==============================] - 19s 82ms/step - precision_m: 0.9178 - accuracy: 0.8977 - recall_m: 0.9678 - loss: 0.2512 - f1_m: 0.9396 - val_precision_m: 0.9457 - val_accuracy: 0.9253 - val_recall_m: 0.9669 - val_loss: 0.1863 - val_f1_m: 0.9560\n",
      "Epoch 2/20\n",
      "228/228 [==============================] - 11s 50ms/step - precision_m: 0.9456 - accuracy: 0.9283 - recall_m: 0.9708 - loss: 0.1793 - f1_m: 0.9578 - val_precision_m: 0.9423 - val_accuracy: 0.9319 - val_recall_m: 0.9793 - val_loss: 0.1707 - val_f1_m: 0.9603\n",
      "Epoch 3/20\n",
      "228/228 [==============================] - 12s 51ms/step - precision_m: 0.9512 - accuracy: 0.9352 - recall_m: 0.9731 - loss: 0.1631 - f1_m: 0.9618 - val_precision_m: 0.9522 - val_accuracy: 0.9374 - val_recall_m: 0.9747 - val_loss: 0.1568 - val_f1_m: 0.9632\n",
      "Epoch 4/20\n",
      "228/228 [==============================] - 12s 51ms/step - precision_m: 0.9544 - accuracy: 0.9392 - recall_m: 0.9745 - loss: 0.1546 - f1_m: 0.9641 - val_precision_m: 0.9522 - val_accuracy: 0.9382 - val_recall_m: 0.9757 - val_loss: 0.1524 - val_f1_m: 0.9637\n",
      "Epoch 5/20\n",
      "228/228 [==============================] - 12s 51ms/step - precision_m: 0.9580 - accuracy: 0.9434 - recall_m: 0.9757 - loss: 0.1451 - f1_m: 0.9666 - val_precision_m: 0.9581 - val_accuracy: 0.9409 - val_recall_m: 0.9724 - val_loss: 0.1463 - val_f1_m: 0.9650\n",
      "Epoch 6/20\n",
      "228/228 [==============================] - 11s 50ms/step - precision_m: 0.9596 - accuracy: 0.9452 - recall_m: 0.9761 - loss: 0.1399 - f1_m: 0.9676 - val_precision_m: 0.9618 - val_accuracy: 0.9405 - val_recall_m: 0.9680 - val_loss: 0.1477 - val_f1_m: 0.9647\n",
      "Epoch 7/20\n",
      "228/228 [==============================] - 12s 51ms/step - precision_m: 0.9619 - accuracy: 0.9480 - recall_m: 0.9770 - loss: 0.1335 - f1_m: 0.9692 - val_precision_m: 0.9542 - val_accuracy: 0.9428 - val_recall_m: 0.9792 - val_loss: 0.1437 - val_f1_m: 0.9664\n",
      "Epoch 8/20\n",
      "228/228 [==============================] - 12s 51ms/step - precision_m: 0.9636 - accuracy: 0.9500 - recall_m: 0.9776 - loss: 0.1290 - f1_m: 0.9704 - val_precision_m: 0.9507 - val_accuracy: 0.9419 - val_recall_m: 0.9820 - val_loss: 0.1457 - val_f1_m: 0.9660\n",
      "Epoch 9/20\n",
      "228/228 [==============================] - 12s 51ms/step - precision_m: 0.9652 - accuracy: 0.9518 - recall_m: 0.9781 - loss: 0.1232 - f1_m: 0.9715 - val_precision_m: 0.9629 - val_accuracy: 0.9430 - val_recall_m: 0.9699 - val_loss: 0.1443 - val_f1_m: 0.9662\n",
      "Epoch 00009: early stopping\n"
     ]
    }
   ],
   "source": [
    "# \n",
    "history3 = model3.fit(X_train, Y_train, epochs=20, callbacks=[es,mc], batch_size=1024, validation_split=0.2)"
   ]
  },
  {
   "cell_type": "code",
   "execution_count": 40,
   "metadata": {
    "execution": {
     "iopub.execute_input": "2020-09-19T12:22:43.835566Z",
     "iopub.status.busy": "2020-09-19T12:22:43.834607Z",
     "iopub.status.idle": "2020-09-19T12:23:37.424461Z",
     "shell.execute_reply": "2020-09-19T12:23:37.424962Z"
    },
    "papermill": {
     "duration": 54.802958,
     "end_time": "2020-09-19T12:23:37.425176",
     "exception": false,
     "start_time": "2020-09-19T12:22:42.622218",
     "status": "completed"
    },
    "tags": []
   },
   "outputs": [
    {
     "name": "stdout",
     "output_type": "stream",
     "text": [
      "Epoch 1/20\n",
      "228/228 [==============================] - 13s 55ms/step - precision_m: 0.9334 - accuracy: 0.9148 - recall_m: 0.9704 - loss: 0.2243 - f1_m: 0.9503 - val_precision_m: 0.9531 - val_accuracy: 0.9377 - val_recall_m: 0.9741 - val_loss: 0.1651 - val_f1_m: 0.9633\n",
      "Epoch 2/20\n",
      "228/228 [==============================] - 8s 33ms/step - precision_m: 0.9582 - accuracy: 0.9432 - recall_m: 0.9752 - loss: 0.1499 - f1_m: 0.9664 - val_precision_m: 0.9559 - val_accuracy: 0.9416 - val_recall_m: 0.9758 - val_loss: 0.1532 - val_f1_m: 0.9656\n",
      "Epoch 3/20\n",
      "228/228 [==============================] - 8s 33ms/step - precision_m: 0.9615 - accuracy: 0.9473 - recall_m: 0.9767 - loss: 0.1379 - f1_m: 0.9689 - val_precision_m: 0.9579 - val_accuracy: 0.9407 - val_recall_m: 0.9725 - val_loss: 0.1525 - val_f1_m: 0.9650\n",
      "Epoch 4/20\n",
      "228/228 [==============================] - 8s 33ms/step - precision_m: 0.9644 - accuracy: 0.9509 - recall_m: 0.9779 - loss: 0.1281 - f1_m: 0.9710 - val_precision_m: 0.9641 - val_accuracy: 0.9398 - val_recall_m: 0.9646 - val_loss: 0.1546 - val_f1_m: 0.9642\n",
      "Epoch 5/20\n",
      "228/228 [==============================] - 8s 33ms/step - precision_m: 0.9669 - accuracy: 0.9542 - recall_m: 0.9793 - loss: 0.1197 - f1_m: 0.9729 - val_precision_m: 0.9579 - val_accuracy: 0.9417 - val_recall_m: 0.9738 - val_loss: 0.1589 - val_f1_m: 0.9656\n",
      "Epoch 00005: early stopping\n"
     ]
    }
   ],
   "source": [
    "# \n",
    "history4 = model4.fit(X_train, Y_train, epochs=20, callbacks=[es,mc], batch_size=1024, validation_split=0.2)"
   ]
  },
  {
   "cell_type": "code",
   "execution_count": 41,
   "metadata": {
    "execution": {
     "iopub.execute_input": "2020-09-19T12:23:40.290850Z",
     "iopub.status.busy": "2020-09-19T12:23:40.289342Z",
     "iopub.status.idle": "2020-09-19T12:24:58.527054Z",
     "shell.execute_reply": "2020-09-19T12:24:58.528270Z"
    },
    "papermill": {
     "duration": 79.639866,
     "end_time": "2020-09-19T12:24:58.528522",
     "exception": false,
     "start_time": "2020-09-19T12:23:38.888656",
     "status": "completed"
    },
    "tags": []
   },
   "outputs": [
    {
     "name": "stdout",
     "output_type": "stream",
     "text": [
      "Epoch 1/20\n",
      "228/228 [==============================] - 21s 94ms/step - precision_m: 0.9381 - accuracy: 0.9214 - recall_m: 0.9731 - loss: 0.2019 - f1_m: 0.9542 - val_precision_m: 0.9572 - val_accuracy: 0.9411 - val_recall_m: 0.9736 - val_loss: 0.1499 - val_f1_m: 0.9652\n",
      "Epoch 2/20\n",
      "228/228 [==============================] - 13s 55ms/step - precision_m: 0.9605 - accuracy: 0.9457 - recall_m: 0.9758 - loss: 0.1394 - f1_m: 0.9679 - val_precision_m: 0.9613 - val_accuracy: 0.9435 - val_recall_m: 0.9721 - val_loss: 0.1450 - val_f1_m: 0.9665\n",
      "Epoch 3/20\n",
      "228/228 [==============================] - 13s 56ms/step - precision_m: 0.9653 - accuracy: 0.9516 - recall_m: 0.9778 - loss: 0.1254 - f1_m: 0.9714 - val_precision_m: 0.9618 - val_accuracy: 0.9427 - val_recall_m: 0.9705 - val_loss: 0.1468 - val_f1_m: 0.9660\n",
      "Epoch 4/20\n",
      "228/228 [==============================] - 13s 56ms/step - precision_m: 0.9695 - accuracy: 0.9573 - recall_m: 0.9802 - loss: 0.1120 - f1_m: 0.9747 - val_precision_m: 0.9611 - val_accuracy: 0.9424 - val_recall_m: 0.9710 - val_loss: 0.1523 - val_f1_m: 0.9659\n",
      "Epoch 00004: early stopping\n"
     ]
    }
   ],
   "source": [
    "# \n",
    "history5 = model5.fit(X_train, Y_train, epochs=20, callbacks=[es,mc], batch_size=1024, validation_split=0.2)"
   ]
  },
  {
   "cell_type": "code",
   "execution_count": 42,
   "metadata": {
    "execution": {
     "iopub.execute_input": "2020-09-19T12:25:01.846994Z",
     "iopub.status.busy": "2020-09-19T12:25:01.846271Z",
     "iopub.status.idle": "2020-09-19T12:25:02.085175Z",
     "shell.execute_reply": "2020-09-19T12:25:02.084421Z"
    },
    "papermill": {
     "duration": 1.953897,
     "end_time": "2020-09-19T12:25:02.085307",
     "exception": false,
     "start_time": "2020-09-19T12:25:00.131410",
     "status": "completed"
    },
    "tags": []
   },
   "outputs": [
    {
     "data": {
      "image/png": "[encoded data removed]",
      "text/plain": [
       "<Figure size 432x288 with 1 Axes>"
      ]
     },
     "metadata": {
      "needs_background": "light"
     },
     "output_type": "display_data"
    }
   ],
   "source": [
    "plt.plot(history3.history['f1_m'], label='train f1 score')\n",
    "plt.plot(history3.history['val_f1_m'], label='val f1 f1 score')\n",
    "plt.xlabel(\"epoch\")\n",
    "plt.ylabel(\"F1 score\")\n",
    "plt.legend() ;"
   ]
  },
  {
   "cell_type": "code",
   "execution_count": 43,
   "metadata": {
    "execution": {
     "iopub.execute_input": "2020-09-19T12:25:05.457428Z",
     "iopub.status.busy": "2020-09-19T12:25:05.455163Z",
     "iopub.status.idle": "2020-09-19T12:25:05.651315Z",
     "shell.execute_reply": "2020-09-19T12:25:05.650748Z"
    },
    "papermill": {
     "duration": 1.953022,
     "end_time": "2020-09-19T12:25:05.651427",
     "exception": false,
     "start_time": "2020-09-19T12:25:03.698405",
     "status": "completed"
    },
    "tags": []
   },
   "outputs": [
    {
     "data": {
      "image/png": "[encoded data removed]",
      "text/plain": [
       "<Figure size 432x288 with 1 Axes>"
      ]
     },
     "metadata": {
      "needs_background": "light"
     },
     "output_type": "display_data"
    }
   ],
   "source": [
    "plt.plot(history3.history['loss'], label='train loss')\n",
    "plt.plot(history3.history['val_loss'], label='val loss')\n",
    "plt.xlabel(\"epoch\")\n",
    "plt.ylabel(\"Cross-entropy loss\")\n",
    "plt.legend() ;"
   ]
  },
  {
   "cell_type": "code",
   "execution_count": 44,
   "metadata": {
    "execution": {
     "iopub.execute_input": "2020-09-19T12:25:08.815503Z",
     "iopub.status.busy": "2020-09-19T12:25:08.812622Z",
     "iopub.status.idle": "2020-09-19T12:25:09.005295Z",
     "shell.execute_reply": "2020-09-19T12:25:09.004716Z"
    },
    "papermill": {
     "duration": 1.759074,
     "end_time": "2020-09-19T12:25:09.005436",
     "exception": false,
     "start_time": "2020-09-19T12:25:07.246362",
     "status": "completed"
    },
    "tags": []
   },
   "outputs": [
    {
     "data": {
      "image/png": "[encoded data removed]",
      "text/plain": [
       "<Figure size 432x288 with 1 Axes>"
      ]
     },
     "metadata": {
      "needs_background": "light"
     },
     "output_type": "display_data"
    }
   ],
   "source": [
    "plt.plot(history3.history['accuracy'], label='train accuracy')\n",
    "plt.plot(history3.history['val_accuracy'], label='val accuracy')\n",
    "plt.xlabel(\"epoch\")\n",
    "plt.ylabel(\"accuracy\")\n",
    "plt.legend();"
   ]
  },
  {
   "cell_type": "code",
   "execution_count": 45,
   "metadata": {
    "execution": {
     "iopub.execute_input": "2020-09-19T12:25:12.277589Z",
     "iopub.status.busy": "2020-09-19T12:25:12.276549Z",
     "iopub.status.idle": "2020-09-19T12:25:15.106831Z",
     "shell.execute_reply": "2020-09-19T12:25:15.106152Z"
    },
    "papermill": {
     "duration": 4.518671,
     "end_time": "2020-09-19T12:25:15.106947",
     "exception": false,
     "start_time": "2020-09-19T12:25:10.588276",
     "status": "completed"
    },
    "tags": []
   },
   "outputs": [
    {
     "name": "stdout",
     "output_type": "stream",
     "text": [
      "Evaluate on test data\n",
      "72/72 [==============================] - 2s 32ms/step - precision_m: 0.9627 - accuracy: 0.9450 - recall_m: 0.9719 - loss: 0.1437 - f1_m: 0.9670\n",
      "test loss : 0.1436646282672882\n",
      "test accuracy : 0.9450111985206604\n",
      "test recall : 0.9718942642211914\n",
      "test precision : 0.9627060294151306\n",
      "test f1 score : 0.9670298099517822\n"
     ]
    }
   ],
   "source": [
    "print(\"Evaluate on test data\")\n",
    "test_loss, test_acc,test_recall, test_precision, test_f1 = model3.evaluate(X_test, Y_test, batch_size =1024, verbose=1)\n",
    "#test data 모델 평가 (모델 3 적용)\n",
    "print(\"test loss :\", test_loss)\n",
    "print(\"test accuracy :\", test_acc)\n",
    "print(\"test recall :\", test_recall)\n",
    "print('test precision :', test_precision)\n",
    "print('test f1 score :', test_f1)"
   ]
  },
  {
   "cell_type": "code",
   "execution_count": 46,
   "metadata": {
    "execution": {
     "iopub.execute_input": "2020-09-19T12:25:18.379191Z",
     "iopub.status.busy": "2020-09-19T12:25:18.378385Z",
     "iopub.status.idle": "2020-09-19T12:25:18.745486Z",
     "shell.execute_reply": "2020-09-19T12:25:18.746211Z"
    },
    "papermill": {
     "duration": 1.971024,
     "end_time": "2020-09-19T12:25:18.746357",
     "exception": false,
     "start_time": "2020-09-19T12:25:16.775333",
     "status": "completed"
    },
    "tags": []
   },
   "outputs": [
    {
     "ename": "IndexError",
     "evalue": "list index out of range",
     "output_type": "error",
     "traceback": [
      "\u001b[0;31m---------------------------------------------------------------------------\u001b[0m",
      "\u001b[0;31mIndexError\u001b[0m                                Traceback (most recent call last)",
      "\u001b[0;32m<ipython-input-46-52d6b9efaeb4>\u001b[0m in \u001b[0;36m<module>\u001b[0;34m\u001b[0m\n\u001b[1;32m     12\u001b[0m final_output = final_output.append({\"Model #\": 3,\n\u001b[1;32m     13\u001b[0m                                     \u001b[0;34m\"Constructure\"\u001b[0m\u001b[0;34m:\u001b[0m \u001b[0;34m'Word2vec & Bidirection'\u001b[0m\u001b[0;34m,\u001b[0m\u001b[0;34m\u001b[0m\u001b[0;34m\u001b[0m\u001b[0m\n\u001b[0;32m---> 14\u001b[0;31m                                     \u001b[0;34m\"Train_Val_Loss\"\u001b[0m\u001b[0;34m:\u001b[0m \u001b[0;34m'{:.5f}'\u001b[0m\u001b[0;34m.\u001b[0m\u001b[0mformat\u001b[0m\u001b[0;34m(\u001b[0m\u001b[0mhistory3\u001b[0m\u001b[0;34m.\u001b[0m\u001b[0mhistory\u001b[0m\u001b[0;34m[\u001b[0m\u001b[0;34m'val_loss'\u001b[0m\u001b[0;34m]\u001b[0m\u001b[0;34m[\u001b[0m\u001b[0;36m9\u001b[0m\u001b[0;34m]\u001b[0m\u001b[0;34m)\u001b[0m\u001b[0;34m,\u001b[0m\u001b[0;34m\u001b[0m\u001b[0;34m\u001b[0m\u001b[0m\n\u001b[0m\u001b[1;32m     15\u001b[0m                                     \u001b[0;34m\"Train_Val_Acc\"\u001b[0m\u001b[0;34m:\u001b[0m \u001b[0;34m'{:.5f}'\u001b[0m\u001b[0;34m.\u001b[0m\u001b[0mformat\u001b[0m\u001b[0;34m(\u001b[0m\u001b[0mhistory3\u001b[0m\u001b[0;34m.\u001b[0m\u001b[0mhistory\u001b[0m\u001b[0;34m[\u001b[0m\u001b[0;34m'val_accuracy'\u001b[0m\u001b[0;34m]\u001b[0m\u001b[0;34m[\u001b[0m\u001b[0;36m9\u001b[0m\u001b[0;34m]\u001b[0m\u001b[0;34m)\u001b[0m\u001b[0;34m,\u001b[0m\u001b[0;34m\u001b[0m\u001b[0;34m\u001b[0m\u001b[0m\n\u001b[1;32m     16\u001b[0m                                     \"F1_Val\": '{:.5f}'.format(history3.history['val_f1_m'][9])}, ignore_index=True)\n",
      "\u001b[0;31mIndexError\u001b[0m: list index out of range"
     ]
    }
   ],
   "source": [
    "final_output = pd.DataFrame(columns=[\"Model #\", \"Constructure\", \"Train_Val_Loss\", \"Train_Val_Acc\", \"F1_Val\"])\n",
    "final_output = final_output.append({\"Model #\": 1,\n",
    "                                    \"Constructure\": 'Word2vec', \n",
    "                                    \"Train_Val_Loss\": '{:.5f}'.format(history1.history['val_loss'][10]),\n",
    "                                    \"Train_Val_Acc\": '{:.5f}'.format(history1.history['val_accuracy'][10]),\n",
    "                                    \"F1_Val\": '{:.5f}'.format(history1.history['val_f1_m'][10])}, ignore_index=True)\n",
    "final_output = final_output.append({\"Model #\": 2,\n",
    "                                    \"Constructure\": 'Bidirection & L2 reg', \n",
    "                                    \"Train_Val_Loss\": '{:.5f}'.format(history2.history['val_loss'][4]),\n",
    "                                    \"Train_Val_Acc\": '{:.5f}'.format(history2.history['val_accuracy'][4]),\n",
    "                                    \"F1_Val\": '{:.5f}'.format(history2.history['val_f1_m'][4])}, ignore_index=True)\n",
    "final_output = final_output.append({\"Model #\": 3,\n",
    "                                    \"Constructure\": 'Word2vec & Bidirection', \n",
    "                                    \"Train_Val_Loss\": '{:.5f}'.format(history3.history['val_loss'][9]),\n",
    "                                    \"Train_Val_Acc\": '{:.5f}'.format(history3.history['val_accuracy'][9]),\n",
    "                                    \"F1_Val\": '{:.5f}'.format(history3.history['val_f1_m'][9])}, ignore_index=True)\n",
    "final_output = final_output.append({\"Model #\": 4,\n",
    "                                    \"Constructure\": 'L2 reg', \n",
    "                                    \"Train_Val_Loss\": '{:.5f}'.format(history4.history['val_loss'][4]),\n",
    "                                    \"Train_Val_Acc\": '{:.5f}'.format(history4.history['val_accuracy'][4]),\n",
    "                                    \"F1_Val\": '{:.5f}'.format(history4.history['val_f1_m'][4])}, ignore_index=True)\n",
    "final_output = final_output.append({\"Model #\": 5,\n",
    "                                    \"Constructure\": 'Bidirection', \n",
    "                                    \"Train_Val_Loss\": '{:.5f}'.format(history5.history['val_loss'][3]),\n",
    "                                    \"Train_Val_Acc\": '{:.5f}'.format(history5.history['val_accuracy'][3]),\n",
    "                                    \"F1_Val\": '{:.5f}'.format(history5.history['val_f1_m'][3])}, ignore_index=True)\n",
    "final_output"
   ]
  },
  {
   "cell_type": "code",
   "execution_count": null,
   "metadata": {
    "papermill": {
     "duration": 1.569387,
     "end_time": "2020-09-19T12:25:21.945908",
     "exception": false,
     "start_time": "2020-09-19T12:25:20.376521",
     "status": "completed"
    },
    "tags": []
   },
   "outputs": [],
   "source": []
  }
 ],
 "metadata": {
  "kernelspec": {
   "display_name": "Python 3",
   "language": "python",
   "name": "python3"
  },
  "language_info": {
   "codemirror_mode": {
    "name": "ipython",
    "version": 3
   },
   "file_extension": ".py",
   "mimetype": "text/x-python",
   "name": "python",
   "nbconvert_exporter": "python",
   "pygments_lexer": "ipython3",
   "version": "3.7.6"
  },
  "papermill": {
   "duration": 1117.882005,
   "end_time": "2020-09-19T12:25:24.788415",
   "environment_variables": {},
   "exception": null,
   "input_path": "__notebook__.ipynb",
   "output_path": "__notebook__.ipynb",
   "parameters": {},
   "start_time": "2020-09-19T12:06:46.906410",
   "version": "2.1.0"
  }
 },
 "nbformat": 4,
 "nbformat_minor": 4
}
