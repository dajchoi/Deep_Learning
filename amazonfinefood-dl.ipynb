{
 "cells": [
  {
   "cell_type": "code",
   "execution_count": 1,
   "metadata": {
    "_cell_guid": "b1076dfc-b9ad-4769-8c92-a6c4dae69d19",
    "_uuid": "8f2839f25d086af736a60e9eeb907d3b93b6e0e5",
    "execution": {
     "iopub.execute_input": "2020-09-04T07:16:24.009955Z",
     "iopub.status.busy": "2020-09-04T07:16:24.008944Z",
     "iopub.status.idle": "2020-09-04T07:16:24.038360Z",
     "shell.execute_reply": "2020-09-04T07:16:24.037625Z"
    },
    "papermill": {
     "duration": 0.044443,
     "end_time": "2020-09-04T07:16:24.038497",
     "exception": false,
     "start_time": "2020-09-04T07:16:23.994054",
     "status": "completed"
    },
    "tags": []
   },
   "outputs": [
    {
     "name": "stdout",
     "output_type": "stream",
     "text": [
      "/kaggle/input/amazon-fine-food-reviews/hashes.txt\n",
      "/kaggle/input/amazon-fine-food-reviews/Reviews.csv\n",
      "/kaggle/input/amazon-fine-food-reviews/database.sqlite\n"
     ]
    }
   ],
   "source": [
    "# This Python 3 environment comes with many helpful analytics libraries installed\n",
    "# It is defined by the kaggle/python Docker image: https://github.com/kaggle/docker-python\n",
    "# For example, here's several helpful packages to load\n",
    "\n",
    "import numpy as np # linear algebra\n",
    "import pandas as pd # data processing, CSV file I/O (e.g. pd.read_csv)\n",
    "\n",
    "# Input data files are available in the read-only \"../input/\" directory\n",
    "# For example, running this (by clicking run or pressing Shift+Enter) will list all files under the input directory\n",
    "\n",
    "import os\n",
    "for dirname, _, filenames in os.walk('/kaggle/input'):\n",
    "    for filename in filenames:\n",
    "        print(os.path.join(dirname, filename))\n",
    "\n",
    "# You can write up to 5GB to the current directory (/kaggle/working/) that gets preserved as output when you create a version using \"Save & Run All\" \n",
    "# You can also write temporary files to /kaggle/temp/, but they won't be saved outside of the current session"
   ]
  },
  {
   "cell_type": "code",
   "execution_count": 2,
   "metadata": {
    "_cell_guid": "79c7e3d0-c299-4dcb-8224-4455121ee9b0",
    "_uuid": "d629ff2d2480ee46fbb7e2d37f6b5fab8052498a",
    "execution": {
     "iopub.execute_input": "2020-09-04T07:16:24.064352Z",
     "iopub.status.busy": "2020-09-04T07:16:24.063586Z",
     "iopub.status.idle": "2020-09-04T07:16:29.063792Z",
     "shell.execute_reply": "2020-09-04T07:16:29.062822Z"
    },
    "papermill": {
     "duration": 5.018099,
     "end_time": "2020-09-04T07:16:29.063977",
     "exception": false,
     "start_time": "2020-09-04T07:16:24.045878",
     "status": "completed"
    },
    "tags": []
   },
   "outputs": [
    {
     "name": "stdout",
     "output_type": "stream",
     "text": [
      "Size of the data is,  (568454, 10)\n",
      "Size of the data after drop,  (568454, 2)\n"
     ]
    },
    {
     "data": {
      "text/html": [
       "<div>\n",
       "<style scoped>\n",
       "    .dataframe tbody tr th:only-of-type {\n",
       "        vertical-align: middle;\n",
       "    }\n",
       "\n",
       "    .dataframe tbody tr th {\n",
       "        vertical-align: top;\n",
       "    }\n",
       "\n",
       "    .dataframe thead th {\n",
       "        text-align: right;\n",
       "    }\n",
       "</style>\n",
       "<table border=\"1\" class=\"dataframe\">\n",
       "  <thead>\n",
       "    <tr style=\"text-align: right;\">\n",
       "      <th></th>\n",
       "      <th>General Review</th>\n",
       "      <th>Rate</th>\n",
       "    </tr>\n",
       "  </thead>\n",
       "  <tbody>\n",
       "    <tr>\n",
       "      <th>0</th>\n",
       "      <td>I have bought several of the Vitality canned d...</td>\n",
       "      <td>5</td>\n",
       "    </tr>\n",
       "    <tr>\n",
       "      <th>1</th>\n",
       "      <td>Product arrived labeled as Jumbo Salted Peanut...</td>\n",
       "      <td>1</td>\n",
       "    </tr>\n",
       "    <tr>\n",
       "      <th>2</th>\n",
       "      <td>This is a confection that has been around a fe...</td>\n",
       "      <td>4</td>\n",
       "    </tr>\n",
       "    <tr>\n",
       "      <th>3</th>\n",
       "      <td>If you are looking for the secret ingredient i...</td>\n",
       "      <td>2</td>\n",
       "    </tr>\n",
       "    <tr>\n",
       "      <th>4</th>\n",
       "      <td>Great taffy at a great price.  There was a wid...</td>\n",
       "      <td>5</td>\n",
       "    </tr>\n",
       "  </tbody>\n",
       "</table>\n",
       "</div>"
      ],
      "text/plain": [
       "                                      General Review  Rate\n",
       "0  I have bought several of the Vitality canned d...     5\n",
       "1  Product arrived labeled as Jumbo Salted Peanut...     1\n",
       "2  This is a confection that has been around a fe...     4\n",
       "3  If you are looking for the secret ingredient i...     2\n",
       "4  Great taffy at a great price.  There was a wid...     5"
      ]
     },
     "execution_count": 2,
     "metadata": {},
     "output_type": "execute_result"
    }
   ],
   "source": [
    "import pandas as pd \n",
    "df = pd.read_csv(\"/kaggle/input/amazon-fine-food-reviews/Reviews.csv\")\n",
    "print(\"Size of the data is, \", df.shape)\n",
    "df.head()\n",
    "\n",
    "#Reshape it with only needed elements\n",
    "df=df[['ProductId','Text','Score']]\n",
    "df['ProductId'] = df['ProductId']\n",
    "df['General Review'] = df['Text']\n",
    "df['Rate'] = df['Score']\n",
    "df.drop(['ProductId','Text','Score'],axis=1,inplace=True)\n",
    "print(\"Size of the data after drop, \", df.shape)\n",
    "df.head()"
   ]
  },
  {
   "cell_type": "code",
   "execution_count": 3,
   "metadata": {
    "execution": {
     "iopub.execute_input": "2020-09-04T07:16:29.087911Z",
     "iopub.status.busy": "2020-09-04T07:16:29.087076Z",
     "iopub.status.idle": "2020-09-04T07:16:29.168904Z",
     "shell.execute_reply": "2020-09-04T07:16:29.168121Z"
    },
    "papermill": {
     "duration": 0.096615,
     "end_time": "2020-09-04T07:16:29.169042",
     "exception": false,
     "start_time": "2020-09-04T07:16:29.072427",
     "status": "completed"
    },
    "tags": []
   },
   "outputs": [
    {
     "name": "stdout",
     "output_type": "stream",
     "text": [
      "Size of data after filtering Score 3,  (525814, 2)\n"
     ]
    },
    {
     "data": {
      "text/html": [
       "<div>\n",
       "<style scoped>\n",
       "    .dataframe tbody tr th:only-of-type {\n",
       "        vertical-align: middle;\n",
       "    }\n",
       "\n",
       "    .dataframe tbody tr th {\n",
       "        vertical-align: top;\n",
       "    }\n",
       "\n",
       "    .dataframe thead th {\n",
       "        text-align: right;\n",
       "    }\n",
       "</style>\n",
       "<table border=\"1\" class=\"dataframe\">\n",
       "  <thead>\n",
       "    <tr style=\"text-align: right;\">\n",
       "      <th></th>\n",
       "      <th>General Review</th>\n",
       "      <th>Rate</th>\n",
       "    </tr>\n",
       "  </thead>\n",
       "  <tbody>\n",
       "    <tr>\n",
       "      <th>0</th>\n",
       "      <td>I have bought several of the Vitality canned d...</td>\n",
       "      <td>5</td>\n",
       "    </tr>\n",
       "    <tr>\n",
       "      <th>1</th>\n",
       "      <td>Product arrived labeled as Jumbo Salted Peanut...</td>\n",
       "      <td>1</td>\n",
       "    </tr>\n",
       "    <tr>\n",
       "      <th>2</th>\n",
       "      <td>This is a confection that has been around a fe...</td>\n",
       "      <td>4</td>\n",
       "    </tr>\n",
       "    <tr>\n",
       "      <th>3</th>\n",
       "      <td>If you are looking for the secret ingredient i...</td>\n",
       "      <td>2</td>\n",
       "    </tr>\n",
       "    <tr>\n",
       "      <th>4</th>\n",
       "      <td>Great taffy at a great price.  There was a wid...</td>\n",
       "      <td>5</td>\n",
       "    </tr>\n",
       "  </tbody>\n",
       "</table>\n",
       "</div>"
      ],
      "text/plain": [
       "                                      General Review  Rate\n",
       "0  I have bought several of the Vitality canned d...     5\n",
       "1  Product arrived labeled as Jumbo Salted Peanut...     1\n",
       "2  This is a confection that has been around a fe...     4\n",
       "3  If you are looking for the secret ingredient i...     2\n",
       "4  Great taffy at a great price.  There was a wid...     5"
      ]
     },
     "execution_count": 3,
     "metadata": {},
     "output_type": "execute_result"
    }
   ],
   "source": [
    "df_filter = df[df[\"Rate\"]!=3].copy() #filter so the rate 3 data does not exist\n",
    "print(\"Size of data after filtering Score 3, \",df_filter.shape)\n",
    "df.head()"
   ]
  },
  {
   "cell_type": "code",
   "execution_count": 4,
   "metadata": {
    "execution": {
     "iopub.execute_input": "2020-09-04T07:16:29.196681Z",
     "iopub.status.busy": "2020-09-04T07:16:29.195926Z",
     "iopub.status.idle": "2020-09-04T07:16:29.638359Z",
     "shell.execute_reply": "2020-09-04T07:16:29.637681Z"
    },
    "papermill": {
     "duration": 0.459867,
     "end_time": "2020-09-04T07:16:29.638481",
     "exception": false,
     "start_time": "2020-09-04T07:16:29.178614",
     "status": "completed"
    },
    "tags": []
   },
   "outputs": [
    {
     "name": "stdout",
     "output_type": "stream",
     "text": [
      "Ratio of 0 and 1 as for Binary_Identification,  1    0.843981\n",
      "0    0.156019\n",
      "Name: Binary_Identify, dtype: float64\n"
     ]
    },
    {
     "data": {
      "text/html": [
       "<div>\n",
       "<style scoped>\n",
       "    .dataframe tbody tr th:only-of-type {\n",
       "        vertical-align: middle;\n",
       "    }\n",
       "\n",
       "    .dataframe tbody tr th {\n",
       "        vertical-align: top;\n",
       "    }\n",
       "\n",
       "    .dataframe thead th {\n",
       "        text-align: right;\n",
       "    }\n",
       "</style>\n",
       "<table border=\"1\" class=\"dataframe\">\n",
       "  <thead>\n",
       "    <tr style=\"text-align: right;\">\n",
       "      <th></th>\n",
       "      <th>General Review</th>\n",
       "      <th>Binary_Identify</th>\n",
       "    </tr>\n",
       "  </thead>\n",
       "  <tbody>\n",
       "    <tr>\n",
       "      <th>0</th>\n",
       "      <td>I have bought several of the Vitality canned d...</td>\n",
       "      <td>1</td>\n",
       "    </tr>\n",
       "    <tr>\n",
       "      <th>1</th>\n",
       "      <td>Product arrived labeled as Jumbo Salted Peanut...</td>\n",
       "      <td>0</td>\n",
       "    </tr>\n",
       "    <tr>\n",
       "      <th>2</th>\n",
       "      <td>This is a confection that has been around a fe...</td>\n",
       "      <td>1</td>\n",
       "    </tr>\n",
       "    <tr>\n",
       "      <th>3</th>\n",
       "      <td>If you are looking for the secret ingredient i...</td>\n",
       "      <td>0</td>\n",
       "    </tr>\n",
       "    <tr>\n",
       "      <th>4</th>\n",
       "      <td>Great taffy at a great price.  There was a wid...</td>\n",
       "      <td>1</td>\n",
       "    </tr>\n",
       "  </tbody>\n",
       "</table>\n",
       "</div>"
      ],
      "text/plain": [
       "                                      General Review  Binary_Identify\n",
       "0  I have bought several of the Vitality canned d...                1\n",
       "1  Product arrived labeled as Jumbo Salted Peanut...                0\n",
       "2  This is a confection that has been around a fe...                1\n",
       "3  If you are looking for the secret ingredient i...                0\n",
       "4  Great taffy at a great price.  There was a wid...                1"
      ]
     },
     "execution_count": 4,
     "metadata": {},
     "output_type": "execute_result"
    }
   ],
   "source": [
    "#Ignore warnings\n",
    "import warnings\n",
    "warnings.filterwarnings(\"ignore\")\n",
    "\n",
    "df_filter[\"Binary_Identify\"]  = df_filter[\"Rate\"].apply(lambda x : 1 if x > 3 else 0)\n",
    "df_filter.drop(['Rate'],axis=1,inplace=True)\n",
    "print(\"Ratio of 0 and 1 as for Binary_Identification, \", df_filter[\"Binary_Identify\"].value_counts(normalize=True))\n",
    "df_filter.head()"
   ]
  },
  {
   "cell_type": "code",
   "execution_count": 5,
   "metadata": {
    "execution": {
     "iopub.execute_input": "2020-09-04T07:16:29.668549Z",
     "iopub.status.busy": "2020-09-04T07:16:29.667743Z",
     "iopub.status.idle": "2020-09-04T07:16:30.783353Z",
     "shell.execute_reply": "2020-09-04T07:16:30.782737Z"
    },
    "papermill": {
     "duration": 1.134456,
     "end_time": "2020-09-04T07:16:30.783479",
     "exception": false,
     "start_time": "2020-09-04T07:16:29.649023",
     "status": "completed"
    },
    "tags": []
   },
   "outputs": [
    {
     "data": {
      "image/png": "[encoded data removed]",
      "text/plain": [
       "<Figure size 432x288 with 1 Axes>"
      ]
     },
     "metadata": {},
     "output_type": "display_data"
    }
   ],
   "source": [
    "#visualization of data\n",
    "import numpy as np\n",
    "import matplotlib.pyplot as plt\n",
    "from matplotlib import style\n",
    "import seaborn as sns\n",
    "\n",
    "# Pie chart to check the estimated ratio of sentiments(0 or 1)\n",
    "labels = '0', '1'\n",
    "sizes = [16,84]\n",
    "\n",
    "fig1, ax1 = plt.subplots()\n",
    "ax1.pie(sizes, labels=labels, autopct='%1.1f%%',\n",
    "        shadow=True, startangle=90)\n",
    "ax1.axis('equal')  # Equal aspect ratio ensures that pie is drawn as a circle.\n",
    "\n",
    "plt.show()\n"
   ]
  },
  {
   "cell_type": "code",
   "execution_count": 6,
   "metadata": {
    "execution": {
     "iopub.execute_input": "2020-09-04T07:16:30.813006Z",
     "iopub.status.busy": "2020-09-04T07:16:30.811960Z",
     "iopub.status.idle": "2020-09-04T07:16:30.815533Z",
     "shell.execute_reply": "2020-09-04T07:16:30.814799Z"
    },
    "papermill": {
     "duration": 0.019865,
     "end_time": "2020-09-04T07:16:30.815651",
     "exception": false,
     "start_time": "2020-09-04T07:16:30.795786",
     "status": "completed"
    },
    "tags": []
   },
   "outputs": [],
   "source": [
    "#Tokenization for preprocessing text\n"
   ]
  }
 ],
 "metadata": {
  "kernelspec": {
   "display_name": "Python 3",
   "language": "python",
   "name": "python3"
  },
  "language_info": {
   "codemirror_mode": {
    "name": "ipython",
    "version": 3
   },
   "file_extension": ".py",
   "mimetype": "text/x-python",
   "name": "python",
   "nbconvert_exporter": "python",
   "pygments_lexer": "ipython3",
   "version": "3.7.6"
  },
  "papermill": {
   "duration": 11.844877,
   "end_time": "2020-09-04T07:16:30.935600",
   "environment_variables": {},
   "exception": null,
   "input_path": "__notebook__.ipynb",
   "output_path": "__notebook__.ipynb",
   "parameters": {},
   "start_time": "2020-09-04T07:16:19.090723",
   "version": "2.1.0"
  }
 },
 "nbformat": 4,
 "nbformat_minor": 4
}
